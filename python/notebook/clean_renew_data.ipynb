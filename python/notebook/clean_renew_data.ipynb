{
 "cells": [
  {
   "cell_type": "code",
   "execution_count": 414,
   "metadata": {},
   "outputs": [],
   "source": [
    "import pandas as pd\n",
    "import matplotlib.pyplot as plt\n",
    "import numpy as np\n",
    "import seaborn as sns   \n",
    "sns.set(style=\"ticks\")"
   ]
  },
  {
   "cell_type": "code",
   "execution_count": 329,
   "metadata": {},
   "outputs": [],
   "source": [
    "project_path = '/home/parfait/Documents/MS BGD/INFMDI721_KIT_BigData/Kit_data/hackathon-futur-energy/'"
   ]
  },
  {
   "cell_type": "code",
   "execution_count": 381,
   "metadata": {},
   "outputs": [],
   "source": [
    "data_rec = (project_path + \"data/data_renewable_energy/renewable-energy-consumption.csv\")\n",
    "data_mrec = (project_path + \"data/data_renewable_energy/modern-renewable-energy-consumption.csv\")\n",
    "data_rei = (project_path + \"data/data_renewable_energy/renewable-energy-investment.csv\")\n",
    "data_iirebt = (project_path + \"data/data_renewable_energy/investment-in-renewable-energy-by-technology.csv\")"
   ]
  },
  {
   "cell_type": "code",
   "execution_count": 382,
   "metadata": {},
   "outputs": [],
   "source": [
    "data_rec = pd.read_csv(data_rec, sep = ',')"
   ]
  },
  {
   "cell_type": "code",
   "execution_count": 383,
   "metadata": {},
   "outputs": [],
   "source": [
    "data_mrec = pd.read_csv(data_mrec, sep = ',')"
   ]
  },
  {
   "cell_type": "code",
   "execution_count": 384,
   "metadata": {},
   "outputs": [],
   "source": [
    "data_rei = pd.read_csv(data_rei, sep = ',')"
   ]
  },
  {
   "cell_type": "code",
   "execution_count": 385,
   "metadata": {},
   "outputs": [],
   "source": [
    "data_iirebt = pd.read_csv(data_iirebt, sep = ',')"
   ]
  },
  {
   "cell_type": "code",
   "execution_count": 386,
   "metadata": {},
   "outputs": [],
   "source": [
    "def clean_data(df):\n",
    "    # rename columns:\n",
    "    if 'Code' in df.columns:\n",
    "        df['Code'] = df['Code'].fillna('INC')\n",
    "    else:\n",
    "        pass\n",
    "\n",
    "    df = df.rename(columns={'Hydropower (terawatt-hours)': 'hydropower',\n",
    "                            'Wind (terawatt-hours)': 'wind',\n",
    "                            'Solar (terawatt-hours)': 'solar',\n",
    "                            'Other renewables (modern biofuels; geothermal; wave & tidal) (terawatt-hours)': 'biomasse',\n",
    "                           \n",
    "                            'Traditional biofuels (terrawatt-hours)': 'biofuel',\n",
    "                            'Other renewables (modern biofuels, geothermal, wave & tidal) (terawatt-hours)': 'biomasse',\n",
    "                            'Wind (Terawatt-hours)': 'wind',\n",
    "                            'Solar PV (Terawatt-hours)': 'solar',\n",
    "                            'Hydropower (TWh)': 'hydropower',\n",
    "                            'Investment in Renewables by Region (IRENA (2016)) (international-$)': 'investment',\n",
    "                            'Marine Energy (USD)': 'price_marine',\n",
    "                            'Geothermal Energy (USD)': 'price_geothermal',\n",
    "                            'Small Hydropower (USD)': 'price_hydropower',\n",
    "                            'Liquid Biofuels (USD)': 'price_biofuel',\n",
    "                            'Biomass & Waste-to-Energy (USD)': 'price_biomasse',\n",
    "                            'Wind Energy (USD)': 'price_wind',\n",
    "                            'Solar Energy (USD)': 'price_solar'\n",
    "                            \n",
    "                           })\n",
    "    \n",
    "    df = df.fillna(0)    \n",
    "    return df\n",
    "\n",
    "def group_by_(df, col_1, col_2):\n",
    "    df = clean_data(df)\n",
    "    return df.groupby([col_1, col_2]).sum()"
   ]
  },
  {
   "cell_type": "code",
   "execution_count": 397,
   "metadata": {},
   "outputs": [
    {
     "data": {
      "text/html": [
       "<div>\n",
       "<style scoped>\n",
       "    .dataframe tbody tr th:only-of-type {\n",
       "        vertical-align: middle;\n",
       "    }\n",
       "\n",
       "    .dataframe tbody tr th {\n",
       "        vertical-align: top;\n",
       "    }\n",
       "\n",
       "    .dataframe thead th {\n",
       "        text-align: right;\n",
       "    }\n",
       "</style>\n",
       "<table border=\"1\" class=\"dataframe\">\n",
       "  <thead>\n",
       "    <tr style=\"text-align: right;\">\n",
       "      <th></th>\n",
       "      <th>Entity</th>\n",
       "      <th>Code</th>\n",
       "      <th>Year</th>\n",
       "      <th>Hydropower (terawatt-hours)</th>\n",
       "      <th>Wind (terawatt-hours)</th>\n",
       "      <th>Solar (terawatt-hours)</th>\n",
       "      <th>Other renewables (modern biofuels; geothermal; wave &amp; tidal) (terawatt-hours)</th>\n",
       "    </tr>\n",
       "  </thead>\n",
       "  <tbody>\n",
       "    <tr>\n",
       "      <th>0</th>\n",
       "      <td>Africa</td>\n",
       "      <td>INC</td>\n",
       "      <td>1965</td>\n",
       "      <td>14.278806</td>\n",
       "      <td>0.0</td>\n",
       "      <td>0.0</td>\n",
       "      <td>0.0</td>\n",
       "    </tr>\n",
       "    <tr>\n",
       "      <th>1</th>\n",
       "      <td>Africa</td>\n",
       "      <td>INC</td>\n",
       "      <td>1966</td>\n",
       "      <td>15.649049</td>\n",
       "      <td>0.0</td>\n",
       "      <td>0.0</td>\n",
       "      <td>0.0</td>\n",
       "    </tr>\n",
       "    <tr>\n",
       "      <th>2</th>\n",
       "      <td>Africa</td>\n",
       "      <td>INC</td>\n",
       "      <td>1967</td>\n",
       "      <td>16.158333</td>\n",
       "      <td>0.0</td>\n",
       "      <td>0.0</td>\n",
       "      <td>0.0</td>\n",
       "    </tr>\n",
       "    <tr>\n",
       "      <th>3</th>\n",
       "      <td>Africa</td>\n",
       "      <td>INC</td>\n",
       "      <td>1968</td>\n",
       "      <td>18.622983</td>\n",
       "      <td>0.0</td>\n",
       "      <td>0.0</td>\n",
       "      <td>0.0</td>\n",
       "    </tr>\n",
       "    <tr>\n",
       "      <th>4</th>\n",
       "      <td>Africa</td>\n",
       "      <td>INC</td>\n",
       "      <td>1969</td>\n",
       "      <td>21.582897</td>\n",
       "      <td>0.0</td>\n",
       "      <td>0.0</td>\n",
       "      <td>0.0</td>\n",
       "    </tr>\n",
       "  </tbody>\n",
       "</table>\n",
       "</div>"
      ],
      "text/plain": [
       "   Entity Code  Year  Hydropower (terawatt-hours)  Wind (terawatt-hours)  \\\n",
       "0  Africa  INC  1965                    14.278806                    0.0   \n",
       "1  Africa  INC  1966                    15.649049                    0.0   \n",
       "2  Africa  INC  1967                    16.158333                    0.0   \n",
       "3  Africa  INC  1968                    18.622983                    0.0   \n",
       "4  Africa  INC  1969                    21.582897                    0.0   \n",
       "\n",
       "   Solar (terawatt-hours)  \\\n",
       "0                     0.0   \n",
       "1                     0.0   \n",
       "2                     0.0   \n",
       "3                     0.0   \n",
       "4                     0.0   \n",
       "\n",
       "   Other renewables (modern biofuels; geothermal; wave & tidal) (terawatt-hours)  \n",
       "0                                                0.0                              \n",
       "1                                                0.0                              \n",
       "2                                                0.0                              \n",
       "3                                                0.0                              \n",
       "4                                                0.0                              "
      ]
     },
     "execution_count": 397,
     "metadata": {},
     "output_type": "execute_result"
    }
   ],
   "source": [
    "data_mrec.head()"
   ]
  },
  {
   "cell_type": "code",
   "execution_count": 410,
   "metadata": {},
   "outputs": [
    {
     "data": {
      "text/html": [
       "<div>\n",
       "<style scoped>\n",
       "    .dataframe tbody tr th:only-of-type {\n",
       "        vertical-align: middle;\n",
       "    }\n",
       "\n",
       "    .dataframe tbody tr th {\n",
       "        vertical-align: top;\n",
       "    }\n",
       "\n",
       "    .dataframe thead th {\n",
       "        text-align: right;\n",
       "    }\n",
       "</style>\n",
       "<table border=\"1\" class=\"dataframe\">\n",
       "  <thead>\n",
       "    <tr style=\"text-align: right;\">\n",
       "      <th></th>\n",
       "      <th>hydropower</th>\n",
       "      <th>wind</th>\n",
       "      <th>solar</th>\n",
       "      <th>biomasse</th>\n",
       "    </tr>\n",
       "    <tr>\n",
       "      <th>Year</th>\n",
       "      <th></th>\n",
       "      <th></th>\n",
       "      <th></th>\n",
       "      <th></th>\n",
       "    </tr>\n",
       "  </thead>\n",
       "  <tbody>\n",
       "    <tr>\n",
       "      <th>1965</th>\n",
       "      <td>3896.429990</td>\n",
       "      <td>0.0</td>\n",
       "      <td>0.0</td>\n",
       "      <td>23.011000</td>\n",
       "    </tr>\n",
       "    <tr>\n",
       "      <th>1966</th>\n",
       "      <td>4181.377635</td>\n",
       "      <td>0.0</td>\n",
       "      <td>0.0</td>\n",
       "      <td>28.677000</td>\n",
       "    </tr>\n",
       "    <tr>\n",
       "      <th>1967</th>\n",
       "      <td>4265.173095</td>\n",
       "      <td>0.0</td>\n",
       "      <td>0.0</td>\n",
       "      <td>30.054000</td>\n",
       "    </tr>\n",
       "    <tr>\n",
       "      <th>1968</th>\n",
       "      <td>4467.787121</td>\n",
       "      <td>0.0</td>\n",
       "      <td>0.0</td>\n",
       "      <td>33.835000</td>\n",
       "    </tr>\n",
       "    <tr>\n",
       "      <th>1969</th>\n",
       "      <td>4717.036515</td>\n",
       "      <td>0.0</td>\n",
       "      <td>0.0</td>\n",
       "      <td>36.987616</td>\n",
       "    </tr>\n",
       "  </tbody>\n",
       "</table>\n",
       "</div>"
      ],
      "text/plain": [
       "       hydropower  wind  solar   biomasse\n",
       "Year                                     \n",
       "1965  3896.429990   0.0    0.0  23.011000\n",
       "1966  4181.377635   0.0    0.0  28.677000\n",
       "1967  4265.173095   0.0    0.0  30.054000\n",
       "1968  4467.787121   0.0    0.0  33.835000\n",
       "1969  4717.036515   0.0    0.0  36.987616"
      ]
     },
     "execution_count": 410,
     "metadata": {},
     "output_type": "execute_result"
    }
   ],
   "source": [
    "data_mrec_clean = clean_data(data_mrec)\n",
    "data_mrec_clean_year = data_mrec_clean.groupby('Year').sum()\n",
    "data_mrec_clean_year.head()"
   ]
  },
  {
   "cell_type": "code",
   "execution_count": 415,
   "metadata": {},
   "outputs": [
    {
     "data": {
      "image/png": "[encoded data removed]",
      "text/plain": [
       "<Figure size 864x576 with 1 Axes>"
      ]
     },
     "metadata": {},
     "output_type": "display_data"
    }
   ],
   "source": [
    "fig = plt.figure(figsize=(12, 8))\n",
    "plt.plot(data_mrec_clean_year['hydropower'], label ='hydropower')\n",
    "plt.plot(data_mrec_clean_year['wind'], label ='wind')\n",
    "plt.plot(data_mrec_clean_year['solar'], label ='solar')\n",
    "plt.plot(data_mrec_clean_year['biomasse'], label ='biomasse')\n",
    "plt.legend(loc=1)\n",
    "plt.title(\"Evolution de la consommation d'énergie renouvelable\")\n",
    "plt.xlabel(\"Année\")\n",
    "plt.ylabel(\"Energie en terawatt-hours\")\n",
    "plt.grid()\n",
    "plt.show()"
   ]
  },
  {
   "cell_type": "code",
   "execution_count": 417,
   "metadata": {},
   "outputs": [
    {
     "data": {
      "text/html": [
       "<div>\n",
       "<style scoped>\n",
       "    .dataframe tbody tr th:only-of-type {\n",
       "        vertical-align: middle;\n",
       "    }\n",
       "\n",
       "    .dataframe tbody tr th {\n",
       "        vertical-align: top;\n",
       "    }\n",
       "\n",
       "    .dataframe thead th {\n",
       "        text-align: right;\n",
       "    }\n",
       "</style>\n",
       "<table border=\"1\" class=\"dataframe\">\n",
       "  <thead>\n",
       "    <tr style=\"text-align: right;\">\n",
       "      <th></th>\n",
       "      <th>Year</th>\n",
       "      <th>hydropower</th>\n",
       "      <th>wind</th>\n",
       "      <th>solar</th>\n",
       "      <th>biomasse</th>\n",
       "    </tr>\n",
       "    <tr>\n",
       "      <th>Entity</th>\n",
       "      <th></th>\n",
       "      <th></th>\n",
       "      <th></th>\n",
       "      <th></th>\n",
       "      <th></th>\n",
       "    </tr>\n",
       "  </thead>\n",
       "  <tbody>\n",
       "    <tr>\n",
       "      <th>Africa</th>\n",
       "      <td>103506</td>\n",
       "      <td>3245.039018</td>\n",
       "      <td>44.323466</td>\n",
       "      <td>12.445055</td>\n",
       "      <td>67.138104</td>\n",
       "    </tr>\n",
       "    <tr>\n",
       "      <th>Algeria</th>\n",
       "      <td>103506</td>\n",
       "      <td>15.668190</td>\n",
       "      <td>0.039052</td>\n",
       "      <td>0.405542</td>\n",
       "      <td>0.000000</td>\n",
       "    </tr>\n",
       "    <tr>\n",
       "      <th>Argentina</th>\n",
       "      <td>103506</td>\n",
       "      <td>1157.977798</td>\n",
       "      <td>3.427932</td>\n",
       "      <td>0.070649</td>\n",
       "      <td>34.720448</td>\n",
       "    </tr>\n",
       "    <tr>\n",
       "      <th>Asia Pacific</th>\n",
       "      <td>103506</td>\n",
       "      <td>27513.699990</td>\n",
       "      <td>1474.406482</td>\n",
       "      <td>389.898645</td>\n",
       "      <td>2008.413464</td>\n",
       "    </tr>\n",
       "    <tr>\n",
       "      <th>Australia</th>\n",
       "      <td>103506</td>\n",
       "      <td>728.659567</td>\n",
       "      <td>79.923937</td>\n",
       "      <td>28.572717</td>\n",
       "      <td>66.555294</td>\n",
       "    </tr>\n",
       "  </tbody>\n",
       "</table>\n",
       "</div>"
      ],
      "text/plain": [
       "                Year    hydropower         wind       solar     biomasse\n",
       "Entity                                                                  \n",
       "Africa        103506   3245.039018    44.323466   12.445055    67.138104\n",
       "Algeria       103506     15.668190     0.039052    0.405542     0.000000\n",
       "Argentina     103506   1157.977798     3.427932    0.070649    34.720448\n",
       "Asia Pacific  103506  27513.699990  1474.406482  389.898645  2008.413464\n",
       "Australia     103506    728.659567    79.923937   28.572717    66.555294"
      ]
     },
     "execution_count": 417,
     "metadata": {},
     "output_type": "execute_result"
    }
   ],
   "source": [
    "data_mrec_clean_ent = data_mrec_clean.groupby('Entity').sum()\n",
    "data_mrec_clean_ent.head()"
   ]
  },
  {
   "cell_type": "code",
   "execution_count": 342,
   "metadata": {},
   "outputs": [],
   "source": [
    "data_rec_clean = group_by(data_rec, 'Code', 'Year')"
   ]
  },
  {
   "cell_type": "code",
   "execution_count": 343,
   "metadata": {},
   "outputs": [],
   "source": [
    "data_rei_clean = group_by(data_rei, 'Code', 'Year')"
   ]
  },
  {
   "cell_type": "code",
   "execution_count": 344,
   "metadata": {},
   "outputs": [],
   "source": [
    "data_iirebt_clean = group_by(data_iirebt,'Code', 'Year' )"
   ]
  },
  {
   "cell_type": "code",
   "execution_count": 373,
   "metadata": {},
   "outputs": [
    {
     "data": {
      "text/html": [
       "<div>\n",
       "<style scoped>\n",
       "    .dataframe tbody tr th:only-of-type {\n",
       "        vertical-align: middle;\n",
       "    }\n",
       "\n",
       "    .dataframe tbody tr th {\n",
       "        vertical-align: top;\n",
       "    }\n",
       "\n",
       "    .dataframe thead th {\n",
       "        text-align: right;\n",
       "    }\n",
       "</style>\n",
       "<table border=\"1\" class=\"dataframe\">\n",
       "  <thead>\n",
       "    <tr style=\"text-align: right;\">\n",
       "      <th></th>\n",
       "      <th></th>\n",
       "      <th>biofuel</th>\n",
       "      <th>biomasse</th>\n",
       "      <th>wind</th>\n",
       "      <th>solar</th>\n",
       "      <th>hydropower</th>\n",
       "    </tr>\n",
       "    <tr>\n",
       "      <th>Code</th>\n",
       "      <th>Year</th>\n",
       "      <th></th>\n",
       "      <th></th>\n",
       "      <th></th>\n",
       "      <th></th>\n",
       "      <th></th>\n",
       "    </tr>\n",
       "  </thead>\n",
       "  <tbody>\n",
       "    <tr>\n",
       "      <th rowspan=\"5\" valign=\"top\">ZAF</th>\n",
       "      <th>2012</th>\n",
       "      <td>0.0</td>\n",
       "      <td>0.29300</td>\n",
       "      <td>0.037000</td>\n",
       "      <td>0.0949</td>\n",
       "      <td>0.0</td>\n",
       "    </tr>\n",
       "    <tr>\n",
       "      <th>2013</th>\n",
       "      <td>0.0</td>\n",
       "      <td>0.29800</td>\n",
       "      <td>0.037000</td>\n",
       "      <td>0.2430</td>\n",
       "      <td>0.0</td>\n",
       "    </tr>\n",
       "    <tr>\n",
       "      <th>2014</th>\n",
       "      <td>0.0</td>\n",
       "      <td>0.30300</td>\n",
       "      <td>1.066000</td>\n",
       "      <td>1.1230</td>\n",
       "      <td>0.0</td>\n",
       "    </tr>\n",
       "    <tr>\n",
       "      <th>2015</th>\n",
       "      <td>0.0</td>\n",
       "      <td>0.30300</td>\n",
       "      <td>3.071000</td>\n",
       "      <td>2.7490</td>\n",
       "      <td>0.0</td>\n",
       "    </tr>\n",
       "    <tr>\n",
       "      <th>2016</th>\n",
       "      <td>0.0</td>\n",
       "      <td>0.30383</td>\n",
       "      <td>4.175852</td>\n",
       "      <td>3.2740</td>\n",
       "      <td>0.0</td>\n",
       "    </tr>\n",
       "  </tbody>\n",
       "</table>\n",
       "</div>"
      ],
      "text/plain": [
       "           biofuel  biomasse      wind   solar  hydropower\n",
       "Code Year                                                 \n",
       "ZAF  2012      0.0   0.29300  0.037000  0.0949         0.0\n",
       "     2013      0.0   0.29800  0.037000  0.2430         0.0\n",
       "     2014      0.0   0.30300  1.066000  1.1230         0.0\n",
       "     2015      0.0   0.30300  3.071000  2.7490         0.0\n",
       "     2016      0.0   0.30383  4.175852  3.2740         0.0"
      ]
     },
     "execution_count": 373,
     "metadata": {},
     "output_type": "execute_result"
    }
   ],
   "source": [
    "data_rec_clean.tail()"
   ]
  },
  {
   "cell_type": "code",
   "execution_count": null,
   "metadata": {},
   "outputs": [],
   "source": [
    "data_rec_clean"
   ]
  },
  {
   "cell_type": "code",
   "execution_count": 379,
   "metadata": {},
   "outputs": [
    {
     "data": {
      "text/plain": [
       "<matplotlib.axes._subplots.AxesSubplot at 0x7fc5447c0438>"
      ]
     },
     "execution_count": 379,
     "metadata": {},
     "output_type": "execute_result"
    },
    {
     "data": {
      "image/png": "[encoded data removed]",
      "text/plain": [
       "<Figure size 864x576 with 1 Axes>"
      ]
     },
     "metadata": {},
     "output_type": "display_data"
    }
   ],
   "source": [
    "fig = plt.figure(figsize=(12, 8))\n",
    "data_rec_clean['biomasse'].plot()\n",
    "#data_rec_clean['biofuel'].plot()"
   ]
  },
  {
   "cell_type": "code",
   "execution_count": 378,
   "metadata": {},
   "outputs": [
    {
     "data": {
      "text/plain": [
       "Text(0, 0.5, 'GDP per capita')"
      ]
     },
     "execution_count": 378,
     "metadata": {},
     "output_type": "execute_result"
    },
    {
     "data": {
      "image/png": "[encoded data removed]",
      "text/plain": [
       "<Figure size 432x288 with 1 Axes>"
      ]
     },
     "metadata": {},
     "output_type": "display_data"
    }
   ],
   "source": [
    "plt.style.use('ggplot')\n",
    "data_rec_clean.plot(kind='bar')\n",
    "plt.ylabel('GDP per capita')"
   ]
  },
  {
   "cell_type": "code",
   "execution_count": null,
   "metadata": {},
   "outputs": [],
   "source": []
  }
 ],
 "metadata": {
  "kernelspec": {
   "display_name": "Python 3",
   "language": "python",
   "name": "python3"
  },
  "language_info": {
   "codemirror_mode": {
    "name": "ipython",
    "version": 3
   },
   "file_extension": ".py",
   "mimetype": "text/x-python",
   "name": "python",
   "nbconvert_exporter": "python",
   "pygments_lexer": "ipython3",
   "version": "3.7.3"
  }
 },
 "nbformat": 4,
 "nbformat_minor": 2
}
