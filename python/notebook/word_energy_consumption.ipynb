{
 "cells": [
  {
   "cell_type": "code",
   "execution_count": 1,
   "metadata": {},
   "outputs": [],
   "source": [
    "import math\n",
    "import numpy as np\n",
    "import pandas as pd\n",
    "from pathlib import Path\n",
    "import matplotlib.pyplot as plt\n",
    "import seaborn as sns\n",
    "import sys\n",
    "\n",
    "import plotly.express as px\n",
    "\n",
    "project_path = Path('../../')\n",
    "data_path = project_path / 'data'\n",
    "src_path = project_path / 'python' / 'src'\n",
    "sys.path.append(str(src_path))\n",
    "from utils import clean_bp\n",
    "\n",
    "sns.set_palette(\"colorblind\")\n",
    "color_blind_list = sns.color_palette(\"colorblind\", 8)\n",
    "sns.set(style=\"whitegrid\")"
   ]
  },
  {
   "cell_type": "code",
   "execution_count": 2,
   "metadata": {
    "scrolled": false
   },
   "outputs": [],
   "source": [
    "df = clean_bp(data_path / \"bp-stats-review-2019-all-data.xlsx\", sheet_name=\"Primary Energy Consumption\")"
   ]
  },
  {
   "cell_type": "code",
   "execution_count": 3,
   "metadata": {},
   "outputs": [],
   "source": [
    "def get_year(df, year):\n",
    "    df = df[df.index.get_level_values('date')==year].copy()\n",
    "    df = df[df.index.unique(level = 'country')!=\"Total World\"]\n",
    "    df = df[df.index.unique(level = 'country')!=\"Total Europe\"]\n",
    "    df = df[df.index.unique(level = 'country')!=\"Total Africa\"]\n",
    "    df = df[df.index.unique(level = 'country')!=\"Total Asia Pacific\"]\n",
    "    df = df[df.index.unique(level = 'country')!=\"Total CIS\"]\n",
    "    df = df[df.index.unique(level = 'country')!=\"Total North America\"]\n",
    "    df = df[df.index.unique(level = 'country')!=\"Total S. & Cent. America\"]\n",
    "    df = df[df.index.unique(level = 'country')!=\"Total Middle East\"]\n",
    "    \n",
    "    return(df)"
   ]
  },
  {
   "cell_type": "code",
   "execution_count": 17,
   "metadata": {},
   "outputs": [
    {
     "data": {
      "application/vnd.jupyter.widget-view+json": {
       "model_id": "10cd67b2b8774f41aac24866e963aa78",
       "version_major": 2,
       "version_minor": 0
      },
      "text/plain": [
       "interactive(children=(IntSlider(value=2000, description='year', max=2018, min=1970), Output()), _dom_classes=(…"
      ]
     },
     "metadata": {},
     "output_type": "display_data"
    }
   ],
   "source": [
    "from ipywidgets import interact, widgets\n",
    "\n",
    "colorscale = [[0, 'rgb(51,160,44,0.5)'],\n",
    "                      [0.05, 'rgb(100,180,70,0.5)'],\n",
    "                      [0.2, 'rgb(178,223,138,0.5)'],\n",
    "                      [0.5, 'rgb(166,206,227, 0.5)'],\n",
    "                      [0.7, 'rgb(251,154,153,0.5)'],\n",
    "                      [0.9, 'rgb(227,26,28,0.5)'],\n",
    "                      [1, 'rgb(227,26,28,0.5)']\n",
    "                     ]\n",
    "\n",
    "def plot_consumption_country(year):\n",
    "    df_year = get_year(df, str(year))\n",
    "    df_year[\"country\"] = df_year.index.get_level_values('country')\n",
    "    fig = px.choropleth(df_year, locations=\"country\",\n",
    "                        color=\"Million tonnes oil equivalent\", # lifeExp is a column of gapminder\n",
    "                        color_continuous_scale=colorscale,\n",
    "                       locationmode=\"country names\",\n",
    "                       projection='miller')\n",
    "    fig.show()\n",
    "    \n",
    "interact(plot_consumption_country, year=widgets.IntSlider(min=1970, max=2018, step=1, value=2000));"
   ]
  },
  {
   "cell_type": "code",
   "execution_count": null,
   "metadata": {},
   "outputs": [],
   "source": [
    "df_1 = pd.read_csv( data_path/)"
   ]
  }
 ],
 "metadata": {
  "kernelspec": {
   "display_name": "Python 3",
   "language": "python",
   "name": "python3"
  },
  "language_info": {
   "codemirror_mode": {
    "name": "ipython",
    "version": 3
   },
   "file_extension": ".py",
   "mimetype": "text/x-python",
   "name": "python",
   "nbconvert_exporter": "python",
   "pygments_lexer": "ipython3",
   "version": "3.7.3"
  }
 },
 "nbformat": 4,
 "nbformat_minor": 2
}
