{
 "cells": [
  {
   "cell_type": "code",
   "execution_count": 79,
   "metadata": {},
   "outputs": [],
   "source": [
    "import math\n",
    "import numpy as np\n",
    "import pandas as pd\n",
    "from pathlib import Path\n",
    "import matplotlib.pyplot as plt\n",
    "import seaborn as sns\n",
    "import sys\n",
    "\n",
    "import plotly.express as px\n",
    "\n",
    "project_path = Path('../../')\n",
    "data_path = project_path / 'data'\n",
    "src_path = project_path / 'python' / 'src'\n",
    "sys.path.append(str(src_path))\n",
    "from utils import clean_bp\n",
    "\n",
    "sns.set_palette(\"colorblind\")\n",
    "color_blind_list = sns.color_palette(\"colorblind\", 8)\n",
    "sns.set(style=\"whitegrid\")"
   ]
  },
  {
   "cell_type": "code",
   "execution_count": 115,
   "metadata": {
    "scrolled": false
   },
   "outputs": [],
   "source": [
    "df = clean_bp(data_path / \"bp-stats-review-2019-all-data.xlsx\", sheet_name=\"Primary Energy Consumption\")"
   ]
  },
  {
   "cell_type": "code",
   "execution_count": 118,
   "metadata": {},
   "outputs": [],
   "source": [
    "def get_year(df, year):\n",
    "    df = df[df.index.get_level_values('date')==year].copy()\n",
    "    df = df[df.index.unique(level = 'country')!=\"Total World\"]\n",
    "    df = df[df.index.unique(level = 'country')!=\"Total Europe\"]\n",
    "    df = df[df.index.unique(level = 'country')!=\"Total Africa\"]\n",
    "    df = df[df.index.unique(level = 'country')!=\"Total Asia Pacific\"]\n",
    "    df = df[df.index.unique(level = 'country')!=\"Total CIS\"]\n",
    "    df = df[df.index.unique(level = 'country')!=\"Total North America\"]\n",
    "    df = df[df.index.unique(level = 'country')!=\"Total S. & Cent. America\"]\n",
    "    df = df[df.index.unique(level = 'country')!=\"Total Middle East\"]\n",
    "    \n",
    "    return(df)"
   ]
  },
  {
   "cell_type": "code",
   "execution_count": 77,
   "metadata": {},
   "outputs": [],
   "source": [
    "df_year_2 = df_year.merge(gapminder[[\"country\", \"iso_alpha\"]], left_on=df_year.index.get_level_values('country'),\n",
    "              right_on = 'country', how='outer')"
   ]
  },
  {
   "cell_type": "code",
   "execution_count": 125,
   "metadata": {
    "scrolled": true
   },
   "outputs": [
    {
     "data": {
      "text/html": [
       "<div>\n",
       "<style scoped>\n",
       "    .dataframe tbody tr th:only-of-type {\n",
       "        vertical-align: middle;\n",
       "    }\n",
       "\n",
       "    .dataframe tbody tr th {\n",
       "        vertical-align: top;\n",
       "    }\n",
       "\n",
       "    .dataframe thead th {\n",
       "        text-align: right;\n",
       "    }\n",
       "</style>\n",
       "<table border=\"1\" class=\"dataframe\">\n",
       "  <thead>\n",
       "    <tr style=\"text-align: right;\">\n",
       "      <th></th>\n",
       "      <th>country</th>\n",
       "      <th>Million tonnes oil equivalent</th>\n",
       "      <th>country_x</th>\n",
       "      <th>country_y</th>\n",
       "      <th>iso_alpha</th>\n",
       "    </tr>\n",
       "  </thead>\n",
       "  <tbody>\n",
       "    <tr>\n",
       "      <th>8</th>\n",
       "      <td>Central America</td>\n",
       "      <td>18.119643</td>\n",
       "      <td>Central America</td>\n",
       "      <td>NaN</td>\n",
       "      <td>NaN</td>\n",
       "    </tr>\n",
       "    <tr>\n",
       "      <th>11</th>\n",
       "      <td>China Hong Kong SAR</td>\n",
       "      <td>16.979821</td>\n",
       "      <td>China Hong Kong SAR</td>\n",
       "      <td>NaN</td>\n",
       "      <td>NaN</td>\n",
       "    </tr>\n",
       "  </tbody>\n",
       "</table>\n",
       "</div>"
      ],
      "text/plain": [
       "                country  Million tonnes oil equivalent            country_x  \\\n",
       "8       Central America                      18.119643      Central America   \n",
       "11  China Hong Kong SAR                      16.979821  China Hong Kong SAR   \n",
       "\n",
       "   country_y iso_alpha  \n",
       "8        NaN       NaN  \n",
       "11       NaN       NaN  "
      ]
     },
     "execution_count": 125,
     "metadata": {},
     "output_type": "execute_result"
    }
   ],
   "source": [
    "df_year_2[df_year_2.iso_alpha.isna()].head(2)"
   ]
  },
  {
   "cell_type": "code",
   "execution_count": 124,
   "metadata": {},
   "outputs": [
    {
     "data": {
      "application/vnd.jupyter.widget-view+json": {
       "model_id": "2c59f26d68374119a38e3f435efe1496",
       "version_major": 2,
       "version_minor": 0
      },
      "text/plain": [
       "interactive(children=(IntSlider(value=2000, description='year', max=2018, min=1970), Output()), _dom_classes=(…"
      ]
     },
     "metadata": {},
     "output_type": "display_data"
    }
   ],
   "source": [
    "from ipywidgets import interact\n",
    "\n",
    "\n",
    "def plot_consumption_country(year):\n",
    "    df_year = get_year(df, str(year))\n",
    "    df_year[\"country\"] = df_year.index.get_level_values('country')\n",
    "    fig = px.choropleth(df_year, locations=\"country\",\n",
    "                        color=\"Million tonnes oil equivalent\", # lifeExp is a column of gapminder\n",
    "                        color_continuous_scale=px.colors.sequential.Viridis,\n",
    "                       locationmode=\"country names\",\n",
    "                       projection='miller')\n",
    "    fig.show()\n",
    "    \n",
    "interact(plot_consumption_country, year=widgets.IntSlider(min=1970, max=2018, step=1, value=2000));"
   ]
  }
 ],
 "metadata": {
  "kernelspec": {
   "display_name": "Python 3",
   "language": "python",
   "name": "python3"
  },
  "language_info": {
   "codemirror_mode": {
    "name": "ipython",
    "version": 3
   },
   "file_extension": ".py",
   "mimetype": "text/x-python",
   "name": "python",
   "nbconvert_exporter": "python",
   "pygments_lexer": "ipython3",
   "version": "3.7.3"
  }
 },
 "nbformat": 4,
 "nbformat_minor": 2
}
