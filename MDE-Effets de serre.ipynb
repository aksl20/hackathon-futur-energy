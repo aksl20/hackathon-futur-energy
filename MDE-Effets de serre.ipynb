{
 "cells": [
  {
   "cell_type": "code",
   "execution_count": 1,
   "metadata": {},
   "outputs": [],
   "source": [
    "import pandas as pd\n",
    "import numpy as np\n",
    "import seaborn as sns\n",
    "import matplotlib.pyplot as plt\n",
    "from scipy import stats\n",
    "import plotly.express as px"
   ]
  },
  {
   "cell_type": "code",
   "execution_count": 157,
   "metadata": {},
   "outputs": [],
   "source": [
    "from sklearn.linear_model import LinearRegression"
   ]
  },
  {
   "cell_type": "code",
   "execution_count": 26,
   "metadata": {},
   "outputs": [],
   "source": [
    "path = \"data/\"\n",
    "file_CO2 = \"CAIT Country GHG Emissions - csv 10022017/CAIT Country CO2 Emissions.csv\""
   ]
  },
  {
   "cell_type": "code",
   "execution_count": 27,
   "metadata": {},
   "outputs": [],
   "source": [
    "df = pd.read_csv(path+file_CO2, header=1)"
   ]
  },
  {
   "cell_type": "code",
   "execution_count": 28,
   "metadata": {},
   "outputs": [
    {
     "data": {
      "text/plain": [
       "Index(['Country', 'Year',\n",
       "       'Total CO2 Emissions Excluding Land-Use Change and Forestry (MtCO2)'],\n",
       "      dtype='object')"
      ]
     },
     "execution_count": 28,
     "metadata": {},
     "output_type": "execute_result"
    }
   ],
   "source": [
    "df.columns"
   ]
  },
  {
   "cell_type": "code",
   "execution_count": 29,
   "metadata": {},
   "outputs": [
    {
     "data": {
      "text/plain": [
       "Country                                                                object\n",
       "Year                                                                    int64\n",
       "Total CO2 Emissions Excluding Land-Use Change and Forestry (MtCO2)    float64\n",
       "dtype: object"
      ]
     },
     "execution_count": 29,
     "metadata": {},
     "output_type": "execute_result"
    }
   ],
   "source": [
    "df.dtypes"
   ]
  },
  {
   "cell_type": "code",
   "execution_count": 30,
   "metadata": {},
   "outputs": [],
   "source": [
    "df = df.rename(columns={\"Total CO2 Emissions Excluding Land-Use Change and Forestry (MtCO2)\" : \"CO2_Emissions(MtCO2)\" })"
   ]
  },
  {
   "cell_type": "code",
   "execution_count": 23,
   "metadata": {},
   "outputs": [
    {
     "data": {
      "text/html": [
       "<div>\n",
       "<style scoped>\n",
       "    .dataframe tbody tr th:only-of-type {\n",
       "        vertical-align: middle;\n",
       "    }\n",
       "\n",
       "    .dataframe tbody tr th {\n",
       "        vertical-align: top;\n",
       "    }\n",
       "\n",
       "    .dataframe thead th {\n",
       "        text-align: right;\n",
       "    }\n",
       "</style>\n",
       "<table border=\"1\" class=\"dataframe\">\n",
       "  <thead>\n",
       "    <tr style=\"text-align: right;\">\n",
       "      <th></th>\n",
       "      <th>Country</th>\n",
       "      <th>Year</th>\n",
       "      <th>CO2_Emissions(MtCO2)</th>\n",
       "    </tr>\n",
       "  </thead>\n",
       "  <tbody>\n",
       "    <tr>\n",
       "      <td>0</td>\n",
       "      <td>Afghanistan</td>\n",
       "      <td>1850</td>\n",
       "      <td>NaN</td>\n",
       "    </tr>\n",
       "    <tr>\n",
       "      <td>1</td>\n",
       "      <td>Albania</td>\n",
       "      <td>1850</td>\n",
       "      <td>NaN</td>\n",
       "    </tr>\n",
       "    <tr>\n",
       "      <td>2</td>\n",
       "      <td>Algeria</td>\n",
       "      <td>1850</td>\n",
       "      <td>NaN</td>\n",
       "    </tr>\n",
       "    <tr>\n",
       "      <td>3</td>\n",
       "      <td>Andorra</td>\n",
       "      <td>1850</td>\n",
       "      <td>NaN</td>\n",
       "    </tr>\n",
       "    <tr>\n",
       "      <td>4</td>\n",
       "      <td>Angola</td>\n",
       "      <td>1850</td>\n",
       "      <td>NaN</td>\n",
       "    </tr>\n",
       "    <tr>\n",
       "      <td>...</td>\n",
       "      <td>...</td>\n",
       "      <td>...</td>\n",
       "      <td>...</td>\n",
       "    </tr>\n",
       "    <tr>\n",
       "      <td>31840</td>\n",
       "      <td>Vietnam</td>\n",
       "      <td>2014</td>\n",
       "      <td>174.5552</td>\n",
       "    </tr>\n",
       "    <tr>\n",
       "      <td>31841</td>\n",
       "      <td>World</td>\n",
       "      <td>2014</td>\n",
       "      <td>34701.3739</td>\n",
       "    </tr>\n",
       "    <tr>\n",
       "      <td>31842</td>\n",
       "      <td>Yemen</td>\n",
       "      <td>2014</td>\n",
       "      <td>24.2678</td>\n",
       "    </tr>\n",
       "    <tr>\n",
       "      <td>31843</td>\n",
       "      <td>Zambia</td>\n",
       "      <td>2014</td>\n",
       "      <td>4.2855</td>\n",
       "    </tr>\n",
       "    <tr>\n",
       "      <td>31844</td>\n",
       "      <td>Zimbabwe</td>\n",
       "      <td>2014</td>\n",
       "      <td>12.1385</td>\n",
       "    </tr>\n",
       "  </tbody>\n",
       "</table>\n",
       "<p>31845 rows × 3 columns</p>\n",
       "</div>"
      ],
      "text/plain": [
       "           Country  Year  CO2_Emissions(MtCO2)\n",
       "0      Afghanistan  1850                   NaN\n",
       "1          Albania  1850                   NaN\n",
       "2          Algeria  1850                   NaN\n",
       "3          Andorra  1850                   NaN\n",
       "4           Angola  1850                   NaN\n",
       "...            ...   ...                   ...\n",
       "31840      Vietnam  2014              174.5552\n",
       "31841        World  2014            34701.3739\n",
       "31842        Yemen  2014               24.2678\n",
       "31843       Zambia  2014                4.2855\n",
       "31844     Zimbabwe  2014               12.1385\n",
       "\n",
       "[31845 rows x 3 columns]"
      ]
     },
     "execution_count": 23,
     "metadata": {},
     "output_type": "execute_result"
    }
   ],
   "source": [
    "df"
   ]
  },
  {
   "cell_type": "code",
   "execution_count": 8,
   "metadata": {},
   "outputs": [
    {
     "data": {
      "text/plain": [
       "(193, 165)"
      ]
     },
     "execution_count": 8,
     "metadata": {},
     "output_type": "execute_result"
    }
   ],
   "source": [
    "table = pd.pivot_table(df, values=\"CO2_Emissions(MtCO2)\", index=[\"Country\"],columns=[\"Year\"], aggfunc=np.sum, dropna=True)\n",
    "table.shape"
   ]
  },
  {
   "cell_type": "code",
   "execution_count": 16,
   "metadata": {},
   "outputs": [],
   "source": [
    "table.loc[\"tot/an\"] = table.sum()*0.1"
   ]
  },
  {
   "cell_type": "code",
   "execution_count": 257,
   "metadata": {},
   "outputs": [
    {
     "data": {
      "text/plain": [
       "Text(0.5, 1.0, \"Evolution des émissions de gaz à effet de serre liées à la production d'énergie\")"
      ]
     },
     "execution_count": 257,
     "metadata": {},
     "output_type": "execute_result"
    },
    {
     "data": {
      "image/png": "[encoded data removed]",
      "text/plain": [
       "<Figure size 432x288 with 1 Axes>"
      ]
     },
     "metadata": {
      "needs_background": "light"
     },
     "output_type": "display_data"
    }
   ],
   "source": [
    "#plt.figure\n",
    "ax = plt.plot(table.columns, table.loc[\"tot/an\"])\n",
    "plt.ylabel(\"Emission de CO2 en Mt\")\n",
    "plt.title(\"Evolution des émissions de gaz à effet de serre liées à la production d'énergie\")"
   ]
  },
  {
   "cell_type": "code",
   "execution_count": 258,
   "metadata": {},
   "outputs": [
    {
     "ename": "ValueError",
     "evalue": "Value of 'y' is not the name of a column in 'data_frame'. Expected one of ['total_bill', 'tip', 'sex', 'smoker', 'day', 'time', 'size'] but received: CO2_Emissions(MtCO2)",
     "output_type": "error",
     "traceback": [
      "\u001b[0;31m---------------------------------------------------------------------------\u001b[0m",
      "\u001b[0;31mValueError\u001b[0m                                Traceback (most recent call last)",
      "\u001b[0;32m<ipython-input-258-08f92a3bf212>\u001b[0m in \u001b[0;36m<module>\u001b[0;34m\u001b[0m\n\u001b[1;32m      1\u001b[0m \u001b[0mdata\u001b[0m \u001b[0;34m=\u001b[0m \u001b[0mtable\u001b[0m\u001b[0;34m.\u001b[0m\u001b[0mloc\u001b[0m\u001b[0;34m[\u001b[0m\u001b[0;34m\"tot/an\"\u001b[0m\u001b[0;34m]\u001b[0m\u001b[0;34m\u001b[0m\u001b[0;34m\u001b[0m\u001b[0m\n\u001b[1;32m      2\u001b[0m \u001b[0mtips\u001b[0m \u001b[0;34m=\u001b[0m \u001b[0mpx\u001b[0m\u001b[0;34m.\u001b[0m\u001b[0mdata\u001b[0m\u001b[0;34m.\u001b[0m\u001b[0mtips\u001b[0m\u001b[0;34m(\u001b[0m\u001b[0;34m)\u001b[0m\u001b[0;34m\u001b[0m\u001b[0;34m\u001b[0m\u001b[0m\n\u001b[0;32m----> 3\u001b[0;31m \u001b[0mfig\u001b[0m \u001b[0;34m=\u001b[0m \u001b[0mpx\u001b[0m\u001b[0;34m.\u001b[0m\u001b[0mscatter\u001b[0m\u001b[0;34m(\u001b[0m\u001b[0mtips\u001b[0m\u001b[0;34m,\u001b[0m \u001b[0mx\u001b[0m\u001b[0;34m=\u001b[0m\u001b[0;34m\"total_bill\"\u001b[0m\u001b[0;34m,\u001b[0m \u001b[0my\u001b[0m\u001b[0;34m=\u001b[0m\u001b[0;34m\"CO2_Emissions(MtCO2)\"\u001b[0m\u001b[0;34m,\u001b[0m \u001b[0mfacet_col\u001b[0m\u001b[0;34m=\u001b[0m\u001b[0;34m\"smoker\"\u001b[0m\u001b[0;34m,\u001b[0m \u001b[0mcolor\u001b[0m\u001b[0;34m=\u001b[0m\u001b[0;34m\"sex\"\u001b[0m\u001b[0;34m,\u001b[0m \u001b[0mtrendline\u001b[0m\u001b[0;34m=\u001b[0m\u001b[0;34m\"exp\"\u001b[0m\u001b[0;34m)\u001b[0m\u001b[0;34m\u001b[0m\u001b[0;34m\u001b[0m\u001b[0m\n\u001b[0m\u001b[1;32m      4\u001b[0m \u001b[0mfig\u001b[0m\u001b[0;34m.\u001b[0m\u001b[0mshow\u001b[0m\u001b[0;34m(\u001b[0m\u001b[0;34m)\u001b[0m\u001b[0;34m\u001b[0m\u001b[0;34m\u001b[0m\u001b[0m\n\u001b[1;32m      5\u001b[0m \u001b[0;34m\u001b[0m\u001b[0m\n",
      "\u001b[0;32m~/anaconda3/lib/python3.7/site-packages/plotly/express/_chart_types.py\u001b[0m in \u001b[0;36mscatter\u001b[0;34m(data_frame, x, y, color, symbol, size, hover_name, hover_data, custom_data, text, facet_row, facet_col, facet_col_wrap, error_x, error_x_minus, error_y, error_y_minus, animation_frame, animation_group, category_orders, labels, color_discrete_sequence, color_discrete_map, color_continuous_scale, range_color, color_continuous_midpoint, symbol_sequence, symbol_map, opacity, size_max, marginal_x, marginal_y, trendline, trendline_color_override, log_x, log_y, range_x, range_y, render_mode, title, template, width, height)\u001b[0m\n\u001b[1;32m     53\u001b[0m     \u001b[0;32min\u001b[0m \u001b[0;36m2\u001b[0m\u001b[0mD\u001b[0m \u001b[0mspace\u001b[0m\u001b[0;34m.\u001b[0m\u001b[0;34m\u001b[0m\u001b[0;34m\u001b[0m\u001b[0m\n\u001b[1;32m     54\u001b[0m     \"\"\"\n\u001b[0;32m---> 55\u001b[0;31m     \u001b[0;32mreturn\u001b[0m \u001b[0mmake_figure\u001b[0m\u001b[0;34m(\u001b[0m\u001b[0margs\u001b[0m\u001b[0;34m=\u001b[0m\u001b[0mlocals\u001b[0m\u001b[0;34m(\u001b[0m\u001b[0;34m)\u001b[0m\u001b[0;34m,\u001b[0m \u001b[0mconstructor\u001b[0m\u001b[0;34m=\u001b[0m\u001b[0mgo\u001b[0m\u001b[0;34m.\u001b[0m\u001b[0mScatter\u001b[0m\u001b[0;34m)\u001b[0m\u001b[0;34m\u001b[0m\u001b[0;34m\u001b[0m\u001b[0m\n\u001b[0m\u001b[1;32m     56\u001b[0m \u001b[0;34m\u001b[0m\u001b[0m\n\u001b[1;32m     57\u001b[0m \u001b[0;34m\u001b[0m\u001b[0m\n",
      "\u001b[0;32m~/anaconda3/lib/python3.7/site-packages/plotly/express/_core.py\u001b[0m in \u001b[0;36mmake_figure\u001b[0;34m(args, constructor, trace_patch, layout_patch)\u001b[0m\n\u001b[1;32m   1093\u001b[0m \u001b[0;34m\u001b[0m\u001b[0m\n\u001b[1;32m   1094\u001b[0m     args, trace_specs, grouped_mappings, sizeref, show_colorbar = infer_config(\n\u001b[0;32m-> 1095\u001b[0;31m         \u001b[0margs\u001b[0m\u001b[0;34m,\u001b[0m \u001b[0mconstructor\u001b[0m\u001b[0;34m,\u001b[0m \u001b[0mtrace_patch\u001b[0m\u001b[0;34m\u001b[0m\u001b[0;34m\u001b[0m\u001b[0m\n\u001b[0m\u001b[1;32m   1096\u001b[0m     )\n\u001b[1;32m   1097\u001b[0m     \u001b[0mgrouper\u001b[0m \u001b[0;34m=\u001b[0m \u001b[0;34m[\u001b[0m\u001b[0mx\u001b[0m\u001b[0;34m.\u001b[0m\u001b[0mgrouper\u001b[0m \u001b[0;32mor\u001b[0m \u001b[0mone_group\u001b[0m \u001b[0;32mfor\u001b[0m \u001b[0mx\u001b[0m \u001b[0;32min\u001b[0m \u001b[0mgrouped_mappings\u001b[0m\u001b[0;34m]\u001b[0m \u001b[0;32mor\u001b[0m \u001b[0;34m[\u001b[0m\u001b[0mone_group\u001b[0m\u001b[0;34m]\u001b[0m\u001b[0;34m\u001b[0m\u001b[0;34m\u001b[0m\u001b[0m\n",
      "\u001b[0;32m~/anaconda3/lib/python3.7/site-packages/plotly/express/_core.py\u001b[0m in \u001b[0;36minfer_config\u001b[0;34m(args, constructor, trace_patch)\u001b[0m\n\u001b[1;32m    969\u001b[0m             \u001b[0mall_attrables\u001b[0m \u001b[0;34m+=\u001b[0m \u001b[0;34m[\u001b[0m\u001b[0mgroup_attr\u001b[0m\u001b[0;34m]\u001b[0m\u001b[0;34m\u001b[0m\u001b[0;34m\u001b[0m\u001b[0m\n\u001b[1;32m    970\u001b[0m \u001b[0;34m\u001b[0m\u001b[0m\n\u001b[0;32m--> 971\u001b[0;31m     \u001b[0margs\u001b[0m \u001b[0;34m=\u001b[0m \u001b[0mbuild_dataframe\u001b[0m\u001b[0;34m(\u001b[0m\u001b[0margs\u001b[0m\u001b[0;34m,\u001b[0m \u001b[0mall_attrables\u001b[0m\u001b[0;34m,\u001b[0m \u001b[0marray_attrables\u001b[0m\u001b[0;34m)\u001b[0m\u001b[0;34m\u001b[0m\u001b[0;34m\u001b[0m\u001b[0m\n\u001b[0m\u001b[1;32m    972\u001b[0m \u001b[0;34m\u001b[0m\u001b[0m\n\u001b[1;32m    973\u001b[0m     \u001b[0mattrs\u001b[0m \u001b[0;34m=\u001b[0m \u001b[0;34m[\u001b[0m\u001b[0mk\u001b[0m \u001b[0;32mfor\u001b[0m \u001b[0mk\u001b[0m \u001b[0;32min\u001b[0m \u001b[0mattrables\u001b[0m \u001b[0;32mif\u001b[0m \u001b[0mk\u001b[0m \u001b[0;32min\u001b[0m \u001b[0margs\u001b[0m\u001b[0;34m]\u001b[0m\u001b[0;34m\u001b[0m\u001b[0;34m\u001b[0m\u001b[0m\n",
      "\u001b[0;32m~/anaconda3/lib/python3.7/site-packages/plotly/express/_core.py\u001b[0m in \u001b[0;36mbuild_dataframe\u001b[0;34m(args, attrables, array_attrables)\u001b[0m\n\u001b[1;32m    891\u001b[0m                             \u001b[0;34m\"\\n To use the index, pass it in directly as `df.index`.\"\u001b[0m\u001b[0;34m\u001b[0m\u001b[0;34m\u001b[0m\u001b[0m\n\u001b[1;32m    892\u001b[0m                         )\n\u001b[0;32m--> 893\u001b[0;31m                     \u001b[0;32mraise\u001b[0m \u001b[0mValueError\u001b[0m\u001b[0;34m(\u001b[0m\u001b[0merr_msg\u001b[0m\u001b[0;34m)\u001b[0m\u001b[0;34m\u001b[0m\u001b[0;34m\u001b[0m\u001b[0m\n\u001b[0m\u001b[1;32m    894\u001b[0m                 \u001b[0;32mif\u001b[0m \u001b[0mlength\u001b[0m \u001b[0;32mand\u001b[0m \u001b[0mlen\u001b[0m\u001b[0;34m(\u001b[0m\u001b[0mdf_input\u001b[0m\u001b[0;34m[\u001b[0m\u001b[0margument\u001b[0m\u001b[0;34m]\u001b[0m\u001b[0;34m)\u001b[0m \u001b[0;34m!=\u001b[0m \u001b[0mlength\u001b[0m\u001b[0;34m:\u001b[0m\u001b[0;34m\u001b[0m\u001b[0;34m\u001b[0m\u001b[0m\n\u001b[1;32m    895\u001b[0m                     raise ValueError(\n",
      "\u001b[0;31mValueError\u001b[0m: Value of 'y' is not the name of a column in 'data_frame'. Expected one of ['total_bill', 'tip', 'sex', 'smoker', 'day', 'time', 'size'] but received: CO2_Emissions(MtCO2)"
     ]
    }
   ],
   "source": [
    "data = table.loc[\"tot/an\"]\n",
    "tips = px.data.tips()\n",
    "fig = px.scatter(tips, x=\"total_bill\", y=\"CO2_Emissions(MtCO2)\", facet_col=\"smoker\", color=\"sex\", trendline=\"exp\")\n",
    "fig.show()\n",
    "\n",
    "results = px.get_trendline_results(fig)\n",
    "print(results)"
   ]
  },
  {
   "cell_type": "code",
   "execution_count": 308,
   "metadata": {},
   "outputs": [],
   "source": [
    "def add_n_column(dataframe, n):\n",
    "    for i in range(2015, 2015+n):\n",
    "        dataframe[i]= np.nan\n",
    "        "
   ]
  },
  {
   "cell_type": "markdown",
   "metadata": {},
   "source": [
    "fig, ax = plt.subplots()\n",
    "\n",
    "Categories = table.index\n",
    "\n",
    "y_pos = np.arange(len(table.index))\n",
    "\n",
    "r_quad = table.TOTAL\n",
    "\n",
    "ax.bar(y_pos, r_quad, align='center', alpha=0.4, width=0.5)\n",
    "plt.xticks(y_pos, Categories, weight=600)\n",
    "ax.set_ylabel('Risque prédictif', weight=600)\n",
    "ax.set_title('Risques prédictifs modèles')\n",
    "plt.show()"
   ]
  },
  {
   "cell_type": "code",
   "execution_count": 173,
   "metadata": {},
   "outputs": [],
   "source": [
    "file_production = \"Total_Energy_production.csv\"\n",
    "file_consumption = \"Total_Energy_consumption.csv\""
   ]
  },
  {
   "cell_type": "code",
   "execution_count": 174,
   "metadata": {},
   "outputs": [],
   "source": [
    "df_production = pd.read_csv(path+file_production, header=2)\n",
    "df_consumption = pd.read_csv(path+file_consumption, header=2, na_values=None)"
   ]
  },
  {
   "cell_type": "code",
   "execution_count": 175,
   "metadata": {},
   "outputs": [],
   "source": [
    "df_production = df_production.dropna()\n",
    "df_consumption = df_consumption.dropna()"
   ]
  },
  {
   "cell_type": "code",
   "execution_count": 176,
   "metadata": {},
   "outputs": [
    {
     "data": {
      "text/plain": [
       "Index(['Unnamed: 0', '1990', '1991', '1992', '1993', '1994', '1995', '1996',\n",
       "       '1997', '1998', '1999', '2000', '2001', '2002', '2003', '2004', '2005',\n",
       "       '2006', '2007', '2008', '2009', '2010', '2011', '2012', '2013', '2014',\n",
       "       '2015', '2016', '2017', '2018', '2017 - 2018 (%) ',\n",
       "       '2000 - 2018 (%/year) '],\n",
       "      dtype='object')"
      ]
     },
     "execution_count": 176,
     "metadata": {},
     "output_type": "execute_result"
    }
   ],
   "source": [
    "df_production.columns"
   ]
  },
  {
   "cell_type": "code",
   "execution_count": 177,
   "metadata": {},
   "outputs": [
    {
     "data": {
      "text/plain": [
       "Index(['Unnamed: 0', '1990', '1991', '1992', '1993', '1994', '1995', '1996',\n",
       "       '1997', '1998', '1999', '2000', '2001', '2002', '2003', '2004', '2005',\n",
       "       '2006', '2007', '2008', '2009', '2010', '2011', '2012', '2013', '2014',\n",
       "       '2015', '2016', '2017', '2018', '2017 - 2018 (%) ',\n",
       "       '2000 - 2018 (%/year) '],\n",
       "      dtype='object')"
      ]
     },
     "execution_count": 177,
     "metadata": {},
     "output_type": "execute_result"
    }
   ],
   "source": [
    "df_consumption.columns"
   ]
  },
  {
   "cell_type": "code",
   "execution_count": 178,
   "metadata": {},
   "outputs": [],
   "source": [
    "df_production.drop(df_production.columns[[len(df_production.columns)-1,len(df_production.columns)-2]], axis=1, inplace=True)\n",
    "df_consumption.drop(df_consumption.columns[[len(df_consumption.columns)-1,len(df_consumption.columns)-2]], axis=1, inplace=True)\n",
    "\n",
    "\n"
   ]
  },
  {
   "cell_type": "code",
   "execution_count": 179,
   "metadata": {},
   "outputs": [],
   "source": [
    "df_production = df_production.set_index([\"Unnamed: 0\"]) \n",
    "df_consumption = df_consumption.set_index([\"Unnamed: 0\"]) "
   ]
  },
  {
   "cell_type": "code",
   "execution_count": 180,
   "metadata": {},
   "outputs": [],
   "source": [
    "df_production.loc[\"tot/an\"] = df_production.sum()\n",
    "df_consumption.loc[\"tot/an\"] = df_consumption.sum()"
   ]
  },
  {
   "cell_type": "code",
   "execution_count": 181,
   "metadata": {},
   "outputs": [],
   "source": [
    "todrop = [\"World\",\"OECD\",\"G7\",\"BRICS\",\"Europe\",\"European Union\",\"CIS\",\"North America\",\"Latin America\",\"Middle-East\",\"Pacific\",\"tot/an\"]"
   ]
  },
  {
   "cell_type": "code",
   "execution_count": 182,
   "metadata": {},
   "outputs": [
    {
     "data": {
      "text/html": [
       "<div>\n",
       "<style scoped>\n",
       "    .dataframe tbody tr th:only-of-type {\n",
       "        vertical-align: middle;\n",
       "    }\n",
       "\n",
       "    .dataframe tbody tr th {\n",
       "        vertical-align: top;\n",
       "    }\n",
       "\n",
       "    .dataframe thead th {\n",
       "        text-align: right;\n",
       "    }\n",
       "</style>\n",
       "<table border=\"1\" class=\"dataframe\">\n",
       "  <thead>\n",
       "    <tr style=\"text-align: right;\">\n",
       "      <th></th>\n",
       "      <th>1990</th>\n",
       "      <th>1991</th>\n",
       "      <th>1992</th>\n",
       "      <th>1993</th>\n",
       "      <th>1994</th>\n",
       "      <th>1995</th>\n",
       "      <th>1996</th>\n",
       "      <th>1997</th>\n",
       "      <th>1998</th>\n",
       "      <th>1999</th>\n",
       "      <th>...</th>\n",
       "      <th>2009</th>\n",
       "      <th>2010</th>\n",
       "      <th>2011</th>\n",
       "      <th>2012</th>\n",
       "      <th>2013</th>\n",
       "      <th>2014</th>\n",
       "      <th>2015</th>\n",
       "      <th>2016</th>\n",
       "      <th>2017</th>\n",
       "      <th>2018</th>\n",
       "    </tr>\n",
       "    <tr>\n",
       "      <th>Unnamed: 0</th>\n",
       "      <th></th>\n",
       "      <th></th>\n",
       "      <th></th>\n",
       "      <th></th>\n",
       "      <th></th>\n",
       "      <th></th>\n",
       "      <th></th>\n",
       "      <th></th>\n",
       "      <th></th>\n",
       "      <th></th>\n",
       "      <th></th>\n",
       "      <th></th>\n",
       "      <th></th>\n",
       "      <th></th>\n",
       "      <th></th>\n",
       "      <th></th>\n",
       "      <th></th>\n",
       "      <th></th>\n",
       "      <th></th>\n",
       "      <th></th>\n",
       "      <th></th>\n",
       "    </tr>\n",
       "  </thead>\n",
       "  <tbody>\n",
       "    <tr>\n",
       "      <td>World</td>\n",
       "      <td>8796.0</td>\n",
       "      <td>8813.0</td>\n",
       "      <td>8866.0</td>\n",
       "      <td>8902.0</td>\n",
       "      <td>9034.0</td>\n",
       "      <td>9251.0</td>\n",
       "      <td>9479.0</td>\n",
       "      <td>9602.0</td>\n",
       "      <td>9718.0</td>\n",
       "      <td>9727.0</td>\n",
       "      <td>...</td>\n",
       "      <td>12216.0</td>\n",
       "      <td>12791.0</td>\n",
       "      <td>13119.0</td>\n",
       "      <td>13298.0</td>\n",
       "      <td>13486.0</td>\n",
       "      <td>13716.0</td>\n",
       "      <td>13802.0</td>\n",
       "      <td>13754.0</td>\n",
       "      <td>14068.0</td>\n",
       "      <td>14468.0</td>\n",
       "    </tr>\n",
       "    <tr>\n",
       "      <td>OECD</td>\n",
       "      <td>3446.0</td>\n",
       "      <td>3476.0</td>\n",
       "      <td>3501.0</td>\n",
       "      <td>3499.0</td>\n",
       "      <td>3617.0</td>\n",
       "      <td>3679.0</td>\n",
       "      <td>3778.0</td>\n",
       "      <td>3809.0</td>\n",
       "      <td>3823.0</td>\n",
       "      <td>3799.0</td>\n",
       "      <td>...</td>\n",
       "      <td>3819.0</td>\n",
       "      <td>3897.0</td>\n",
       "      <td>3876.0</td>\n",
       "      <td>3906.0</td>\n",
       "      <td>3997.0</td>\n",
       "      <td>4159.0</td>\n",
       "      <td>4180.0</td>\n",
       "      <td>4080.0</td>\n",
       "      <td>4207.0</td>\n",
       "      <td>4408.0</td>\n",
       "    </tr>\n",
       "    <tr>\n",
       "      <td>G7</td>\n",
       "      <td>2535.0</td>\n",
       "      <td>2533.0</td>\n",
       "      <td>2546.0</td>\n",
       "      <td>2530.0</td>\n",
       "      <td>2636.0</td>\n",
       "      <td>2666.0</td>\n",
       "      <td>2711.0</td>\n",
       "      <td>2717.0</td>\n",
       "      <td>2736.0</td>\n",
       "      <td>2716.0</td>\n",
       "      <td>...</td>\n",
       "      <td>2623.0</td>\n",
       "      <td>2674.0</td>\n",
       "      <td>2676.0</td>\n",
       "      <td>2686.0</td>\n",
       "      <td>2757.0</td>\n",
       "      <td>2915.0</td>\n",
       "      <td>2945.0</td>\n",
       "      <td>2833.0</td>\n",
       "      <td>2953.0</td>\n",
       "      <td>3159.0</td>\n",
       "    </tr>\n",
       "    <tr>\n",
       "      <td>BRICS</td>\n",
       "      <td>2676.0</td>\n",
       "      <td>2619.0</td>\n",
       "      <td>2561.0</td>\n",
       "      <td>2522.0</td>\n",
       "      <td>2528.0</td>\n",
       "      <td>2604.0</td>\n",
       "      <td>2642.0</td>\n",
       "      <td>2626.0</td>\n",
       "      <td>2639.0</td>\n",
       "      <td>2666.0</td>\n",
       "      <td>...</td>\n",
       "      <td>4115.0</td>\n",
       "      <td>4428.0</td>\n",
       "      <td>4616.0</td>\n",
       "      <td>4655.0</td>\n",
       "      <td>4735.0</td>\n",
       "      <td>4790.0</td>\n",
       "      <td>4828.0</td>\n",
       "      <td>4742.0</td>\n",
       "      <td>4901.0</td>\n",
       "      <td>5071.0</td>\n",
       "    </tr>\n",
       "    <tr>\n",
       "      <td>Europe</td>\n",
       "      <td>1133.0</td>\n",
       "      <td>1133.0</td>\n",
       "      <td>1137.0</td>\n",
       "      <td>1148.0</td>\n",
       "      <td>1176.0</td>\n",
       "      <td>1207.0</td>\n",
       "      <td>1263.0</td>\n",
       "      <td>1259.0</td>\n",
       "      <td>1227.0</td>\n",
       "      <td>1228.0</td>\n",
       "      <td>...</td>\n",
       "      <td>1112.0</td>\n",
       "      <td>1118.0</td>\n",
       "      <td>1079.0</td>\n",
       "      <td>1073.0</td>\n",
       "      <td>1062.0</td>\n",
       "      <td>1044.0</td>\n",
       "      <td>1047.0</td>\n",
       "      <td>1044.0</td>\n",
       "      <td>1047.0</td>\n",
       "      <td>1043.0</td>\n",
       "    </tr>\n",
       "    <tr>\n",
       "      <td>European Union</td>\n",
       "      <td>955.0</td>\n",
       "      <td>945.0</td>\n",
       "      <td>933.0</td>\n",
       "      <td>937.0</td>\n",
       "      <td>953.0</td>\n",
       "      <td>968.0</td>\n",
       "      <td>1000.0</td>\n",
       "      <td>988.0</td>\n",
       "      <td>960.0</td>\n",
       "      <td>961.0</td>\n",
       "      <td>...</td>\n",
       "      <td>827.0</td>\n",
       "      <td>844.0</td>\n",
       "      <td>812.0</td>\n",
       "      <td>803.0</td>\n",
       "      <td>798.0</td>\n",
       "      <td>780.0</td>\n",
       "      <td>773.0</td>\n",
       "      <td>761.0</td>\n",
       "      <td>758.0</td>\n",
       "      <td>753.0</td>\n",
       "    </tr>\n",
       "    <tr>\n",
       "      <td>Belgium</td>\n",
       "      <td>13.0</td>\n",
       "      <td>13.0</td>\n",
       "      <td>13.0</td>\n",
       "      <td>12.0</td>\n",
       "      <td>12.0</td>\n",
       "      <td>12.0</td>\n",
       "      <td>12.0</td>\n",
       "      <td>13.0</td>\n",
       "      <td>13.0</td>\n",
       "      <td>14.0</td>\n",
       "      <td>...</td>\n",
       "      <td>15.0</td>\n",
       "      <td>16.0</td>\n",
       "      <td>16.0</td>\n",
       "      <td>14.0</td>\n",
       "      <td>15.0</td>\n",
       "      <td>13.0</td>\n",
       "      <td>11.0</td>\n",
       "      <td>15.0</td>\n",
       "      <td>15.0</td>\n",
       "      <td>12.0</td>\n",
       "    </tr>\n",
       "    <tr>\n",
       "      <td>Czech Republic</td>\n",
       "      <td>41.0</td>\n",
       "      <td>39.0</td>\n",
       "      <td>37.0</td>\n",
       "      <td>36.0</td>\n",
       "      <td>34.0</td>\n",
       "      <td>33.0</td>\n",
       "      <td>33.0</td>\n",
       "      <td>34.0</td>\n",
       "      <td>32.0</td>\n",
       "      <td>29.0</td>\n",
       "      <td>...</td>\n",
       "      <td>32.0</td>\n",
       "      <td>32.0</td>\n",
       "      <td>33.0</td>\n",
       "      <td>33.0</td>\n",
       "      <td>31.0</td>\n",
       "      <td>30.0</td>\n",
       "      <td>29.0</td>\n",
       "      <td>27.0</td>\n",
       "      <td>28.0</td>\n",
       "      <td>28.0</td>\n",
       "    </tr>\n",
       "    <tr>\n",
       "      <td>France</td>\n",
       "      <td>112.0</td>\n",
       "      <td>119.0</td>\n",
       "      <td>120.0</td>\n",
       "      <td>126.0</td>\n",
       "      <td>124.0</td>\n",
       "      <td>128.0</td>\n",
       "      <td>132.0</td>\n",
       "      <td>129.0</td>\n",
       "      <td>125.0</td>\n",
       "      <td>127.0</td>\n",
       "      <td>...</td>\n",
       "      <td>129.0</td>\n",
       "      <td>136.0</td>\n",
       "      <td>136.0</td>\n",
       "      <td>135.0</td>\n",
       "      <td>137.0</td>\n",
       "      <td>138.0</td>\n",
       "      <td>139.0</td>\n",
       "      <td>131.0</td>\n",
       "      <td>130.0</td>\n",
       "      <td>135.0</td>\n",
       "    </tr>\n",
       "    <tr>\n",
       "      <td>Germany</td>\n",
       "      <td>190.0</td>\n",
       "      <td>169.0</td>\n",
       "      <td>164.0</td>\n",
       "      <td>153.0</td>\n",
       "      <td>145.0</td>\n",
       "      <td>145.0</td>\n",
       "      <td>143.0</td>\n",
       "      <td>145.0</td>\n",
       "      <td>137.0</td>\n",
       "      <td>138.0</td>\n",
       "      <td>...</td>\n",
       "      <td>126.0</td>\n",
       "      <td>129.0</td>\n",
       "      <td>123.0</td>\n",
       "      <td>123.0</td>\n",
       "      <td>121.0</td>\n",
       "      <td>120.0</td>\n",
       "      <td>120.0</td>\n",
       "      <td>116.0</td>\n",
       "      <td>115.0</td>\n",
       "      <td>115.0</td>\n",
       "    </tr>\n",
       "    <tr>\n",
       "      <td>Italy</td>\n",
       "      <td>26.0</td>\n",
       "      <td>26.0</td>\n",
       "      <td>28.0</td>\n",
       "      <td>29.0</td>\n",
       "      <td>30.0</td>\n",
       "      <td>30.0</td>\n",
       "      <td>31.0</td>\n",
       "      <td>31.0</td>\n",
       "      <td>31.0</td>\n",
       "      <td>29.0</td>\n",
       "      <td>...</td>\n",
       "      <td>32.0</td>\n",
       "      <td>33.0</td>\n",
       "      <td>32.0</td>\n",
       "      <td>35.0</td>\n",
       "      <td>37.0</td>\n",
       "      <td>37.0</td>\n",
       "      <td>36.0</td>\n",
       "      <td>34.0</td>\n",
       "      <td>34.0</td>\n",
       "      <td>36.0</td>\n",
       "    </tr>\n",
       "    <tr>\n",
       "      <td>Netherlands</td>\n",
       "      <td>61.0</td>\n",
       "      <td>68.0</td>\n",
       "      <td>68.0</td>\n",
       "      <td>69.0</td>\n",
       "      <td>67.0</td>\n",
       "      <td>67.0</td>\n",
       "      <td>75.0</td>\n",
       "      <td>67.0</td>\n",
       "      <td>64.0</td>\n",
       "      <td>60.0</td>\n",
       "      <td>...</td>\n",
       "      <td>63.0</td>\n",
       "      <td>71.0</td>\n",
       "      <td>66.0</td>\n",
       "      <td>66.0</td>\n",
       "      <td>70.0</td>\n",
       "      <td>60.0</td>\n",
       "      <td>48.0</td>\n",
       "      <td>46.0</td>\n",
       "      <td>42.0</td>\n",
       "      <td>31.0</td>\n",
       "    </tr>\n",
       "    <tr>\n",
       "      <td>Poland</td>\n",
       "      <td>104.0</td>\n",
       "      <td>100.0</td>\n",
       "      <td>98.0</td>\n",
       "      <td>97.0</td>\n",
       "      <td>98.0</td>\n",
       "      <td>100.0</td>\n",
       "      <td>102.0</td>\n",
       "      <td>100.0</td>\n",
       "      <td>87.0</td>\n",
       "      <td>84.0</td>\n",
       "      <td>...</td>\n",
       "      <td>67.0</td>\n",
       "      <td>67.0</td>\n",
       "      <td>68.0</td>\n",
       "      <td>72.0</td>\n",
       "      <td>71.0</td>\n",
       "      <td>68.0</td>\n",
       "      <td>69.0</td>\n",
       "      <td>67.0</td>\n",
       "      <td>66.0</td>\n",
       "      <td>64.0</td>\n",
       "    </tr>\n",
       "    <tr>\n",
       "      <td>Portugal</td>\n",
       "      <td>3.0</td>\n",
       "      <td>3.0</td>\n",
       "      <td>3.0</td>\n",
       "      <td>3.0</td>\n",
       "      <td>3.0</td>\n",
       "      <td>3.0</td>\n",
       "      <td>4.0</td>\n",
       "      <td>4.0</td>\n",
       "      <td>4.0</td>\n",
       "      <td>3.0</td>\n",
       "      <td>...</td>\n",
       "      <td>5.0</td>\n",
       "      <td>6.0</td>\n",
       "      <td>6.0</td>\n",
       "      <td>5.0</td>\n",
       "      <td>6.0</td>\n",
       "      <td>6.0</td>\n",
       "      <td>5.0</td>\n",
       "      <td>6.0</td>\n",
       "      <td>5.0</td>\n",
       "      <td>6.0</td>\n",
       "    </tr>\n",
       "    <tr>\n",
       "      <td>Romania</td>\n",
       "      <td>41.0</td>\n",
       "      <td>36.0</td>\n",
       "      <td>34.0</td>\n",
       "      <td>33.0</td>\n",
       "      <td>32.0</td>\n",
       "      <td>32.0</td>\n",
       "      <td>33.0</td>\n",
       "      <td>32.0</td>\n",
       "      <td>29.0</td>\n",
       "      <td>28.0</td>\n",
       "      <td>...</td>\n",
       "      <td>28.0</td>\n",
       "      <td>28.0</td>\n",
       "      <td>28.0</td>\n",
       "      <td>27.0</td>\n",
       "      <td>26.0</td>\n",
       "      <td>27.0</td>\n",
       "      <td>27.0</td>\n",
       "      <td>25.0</td>\n",
       "      <td>26.0</td>\n",
       "      <td>25.0</td>\n",
       "    </tr>\n",
       "    <tr>\n",
       "      <td>Spain</td>\n",
       "      <td>35.0</td>\n",
       "      <td>35.0</td>\n",
       "      <td>34.0</td>\n",
       "      <td>33.0</td>\n",
       "      <td>32.0</td>\n",
       "      <td>32.0</td>\n",
       "      <td>33.0</td>\n",
       "      <td>32.0</td>\n",
       "      <td>33.0</td>\n",
       "      <td>31.0</td>\n",
       "      <td>...</td>\n",
       "      <td>30.0</td>\n",
       "      <td>35.0</td>\n",
       "      <td>32.0</td>\n",
       "      <td>34.0</td>\n",
       "      <td>35.0</td>\n",
       "      <td>35.0</td>\n",
       "      <td>34.0</td>\n",
       "      <td>34.0</td>\n",
       "      <td>33.0</td>\n",
       "      <td>34.0</td>\n",
       "    </tr>\n",
       "    <tr>\n",
       "      <td>Sweden</td>\n",
       "      <td>30.0</td>\n",
       "      <td>31.0</td>\n",
       "      <td>29.0</td>\n",
       "      <td>29.0</td>\n",
       "      <td>31.0</td>\n",
       "      <td>32.0</td>\n",
       "      <td>32.0</td>\n",
       "      <td>32.0</td>\n",
       "      <td>34.0</td>\n",
       "      <td>33.0</td>\n",
       "      <td>...</td>\n",
       "      <td>30.0</td>\n",
       "      <td>33.0</td>\n",
       "      <td>33.0</td>\n",
       "      <td>36.0</td>\n",
       "      <td>35.0</td>\n",
       "      <td>34.0</td>\n",
       "      <td>34.0</td>\n",
       "      <td>35.0</td>\n",
       "      <td>36.0</td>\n",
       "      <td>37.0</td>\n",
       "    </tr>\n",
       "    <tr>\n",
       "      <td>United Kingdom</td>\n",
       "      <td>208.0</td>\n",
       "      <td>215.0</td>\n",
       "      <td>215.0</td>\n",
       "      <td>223.0</td>\n",
       "      <td>252.0</td>\n",
       "      <td>258.0</td>\n",
       "      <td>269.0</td>\n",
       "      <td>268.0</td>\n",
       "      <td>272.0</td>\n",
       "      <td>282.0</td>\n",
       "      <td>...</td>\n",
       "      <td>158.0</td>\n",
       "      <td>148.0</td>\n",
       "      <td>130.0</td>\n",
       "      <td>117.0</td>\n",
       "      <td>110.0</td>\n",
       "      <td>108.0</td>\n",
       "      <td>118.0</td>\n",
       "      <td>120.0</td>\n",
       "      <td>120.0</td>\n",
       "      <td>124.0</td>\n",
       "    </tr>\n",
       "    <tr>\n",
       "      <td>Norway</td>\n",
       "      <td>119.0</td>\n",
       "      <td>131.0</td>\n",
       "      <td>147.0</td>\n",
       "      <td>155.0</td>\n",
       "      <td>171.0</td>\n",
       "      <td>185.0</td>\n",
       "      <td>208.0</td>\n",
       "      <td>213.0</td>\n",
       "      <td>207.0</td>\n",
       "      <td>210.0</td>\n",
       "      <td>...</td>\n",
       "      <td>217.0</td>\n",
       "      <td>203.0</td>\n",
       "      <td>195.0</td>\n",
       "      <td>200.0</td>\n",
       "      <td>191.0</td>\n",
       "      <td>195.0</td>\n",
       "      <td>204.0</td>\n",
       "      <td>208.0</td>\n",
       "      <td>214.0</td>\n",
       "      <td>207.0</td>\n",
       "    </tr>\n",
       "    <tr>\n",
       "      <td>Turkey</td>\n",
       "      <td>26.0</td>\n",
       "      <td>26.0</td>\n",
       "      <td>26.0</td>\n",
       "      <td>26.0</td>\n",
       "      <td>26.0</td>\n",
       "      <td>26.0</td>\n",
       "      <td>27.0</td>\n",
       "      <td>28.0</td>\n",
       "      <td>29.0</td>\n",
       "      <td>28.0</td>\n",
       "      <td>...</td>\n",
       "      <td>30.0</td>\n",
       "      <td>32.0</td>\n",
       "      <td>32.0</td>\n",
       "      <td>30.0</td>\n",
       "      <td>32.0</td>\n",
       "      <td>31.0</td>\n",
       "      <td>32.0</td>\n",
       "      <td>36.0</td>\n",
       "      <td>37.0</td>\n",
       "      <td>43.0</td>\n",
       "    </tr>\n",
       "    <tr>\n",
       "      <td>CIS</td>\n",
       "      <td>1656.0</td>\n",
       "      <td>1565.0</td>\n",
       "      <td>1453.0</td>\n",
       "      <td>1362.0</td>\n",
       "      <td>1250.0</td>\n",
       "      <td>1215.0</td>\n",
       "      <td>1208.0</td>\n",
       "      <td>1168.0</td>\n",
       "      <td>1176.0</td>\n",
       "      <td>1208.0</td>\n",
       "      <td>...</td>\n",
       "      <td>1589.0</td>\n",
       "      <td>1692.0</td>\n",
       "      <td>1737.0</td>\n",
       "      <td>1759.0</td>\n",
       "      <td>1786.0</td>\n",
       "      <td>1766.0</td>\n",
       "      <td>1769.0</td>\n",
       "      <td>1798.0</td>\n",
       "      <td>1862.0</td>\n",
       "      <td>1933.0</td>\n",
       "    </tr>\n",
       "    <tr>\n",
       "      <td>Kazakhstan</td>\n",
       "      <td>91.0</td>\n",
       "      <td>92.0</td>\n",
       "      <td>90.0</td>\n",
       "      <td>79.0</td>\n",
       "      <td>71.0</td>\n",
       "      <td>64.0</td>\n",
       "      <td>64.0</td>\n",
       "      <td>66.0</td>\n",
       "      <td>65.0</td>\n",
       "      <td>66.0</td>\n",
       "      <td>...</td>\n",
       "      <td>148.0</td>\n",
       "      <td>157.0</td>\n",
       "      <td>160.0</td>\n",
       "      <td>165.0</td>\n",
       "      <td>169.0</td>\n",
       "      <td>166.0</td>\n",
       "      <td>164.0</td>\n",
       "      <td>163.0</td>\n",
       "      <td>180.0</td>\n",
       "      <td>190.0</td>\n",
       "    </tr>\n",
       "    <tr>\n",
       "      <td>Russia</td>\n",
       "      <td>1296.0</td>\n",
       "      <td>1220.0</td>\n",
       "      <td>1143.0</td>\n",
       "      <td>1063.0</td>\n",
       "      <td>994.0</td>\n",
       "      <td>970.0</td>\n",
       "      <td>969.0</td>\n",
       "      <td>937.0</td>\n",
       "      <td>944.0</td>\n",
       "      <td>962.0</td>\n",
       "      <td>...</td>\n",
       "      <td>1190.0</td>\n",
       "      <td>1279.0</td>\n",
       "      <td>1299.0</td>\n",
       "      <td>1316.0</td>\n",
       "      <td>1331.0</td>\n",
       "      <td>1319.0</td>\n",
       "      <td>1334.0</td>\n",
       "      <td>1373.0</td>\n",
       "      <td>1429.0</td>\n",
       "      <td>1492.0</td>\n",
       "    </tr>\n",
       "    <tr>\n",
       "      <td>Ukraine</td>\n",
       "      <td>127.0</td>\n",
       "      <td>111.0</td>\n",
       "      <td>104.0</td>\n",
       "      <td>95.0</td>\n",
       "      <td>83.0</td>\n",
       "      <td>78.0</td>\n",
       "      <td>71.0</td>\n",
       "      <td>71.0</td>\n",
       "      <td>71.0</td>\n",
       "      <td>72.0</td>\n",
       "      <td>...</td>\n",
       "      <td>79.0</td>\n",
       "      <td>79.0</td>\n",
       "      <td>86.0</td>\n",
       "      <td>85.0</td>\n",
       "      <td>86.0</td>\n",
       "      <td>77.0</td>\n",
       "      <td>64.0</td>\n",
       "      <td>66.0</td>\n",
       "      <td>58.0</td>\n",
       "      <td>58.0</td>\n",
       "    </tr>\n",
       "    <tr>\n",
       "      <td>Uzbekistan</td>\n",
       "      <td>39.0</td>\n",
       "      <td>40.0</td>\n",
       "      <td>41.0</td>\n",
       "      <td>43.0</td>\n",
       "      <td>46.0</td>\n",
       "      <td>49.0</td>\n",
       "      <td>49.0</td>\n",
       "      <td>51.0</td>\n",
       "      <td>55.0</td>\n",
       "      <td>55.0</td>\n",
       "      <td>...</td>\n",
       "      <td>57.0</td>\n",
       "      <td>55.0</td>\n",
       "      <td>57.0</td>\n",
       "      <td>57.0</td>\n",
       "      <td>54.0</td>\n",
       "      <td>56.0</td>\n",
       "      <td>56.0</td>\n",
       "      <td>51.0</td>\n",
       "      <td>51.0</td>\n",
       "      <td>54.0</td>\n",
       "    </tr>\n",
       "    <tr>\n",
       "      <td>America</td>\n",
       "      <td>2543.0</td>\n",
       "      <td>2568.0</td>\n",
       "      <td>2590.0</td>\n",
       "      <td>2578.0</td>\n",
       "      <td>2684.0</td>\n",
       "      <td>2726.0</td>\n",
       "      <td>2808.0</td>\n",
       "      <td>2850.0</td>\n",
       "      <td>2888.0</td>\n",
       "      <td>2853.0</td>\n",
       "      <td>...</td>\n",
       "      <td>3057.0</td>\n",
       "      <td>3124.0</td>\n",
       "      <td>3223.0</td>\n",
       "      <td>3275.0</td>\n",
       "      <td>3355.0</td>\n",
       "      <td>3520.0</td>\n",
       "      <td>3519.0</td>\n",
       "      <td>3395.0</td>\n",
       "      <td>3479.0</td>\n",
       "      <td>3622.0</td>\n",
       "    </tr>\n",
       "    <tr>\n",
       "      <td>North America</td>\n",
       "      <td>1923.0</td>\n",
       "      <td>1924.0</td>\n",
       "      <td>1939.0</td>\n",
       "      <td>1910.0</td>\n",
       "      <td>1993.0</td>\n",
       "      <td>2007.0</td>\n",
       "      <td>2034.0</td>\n",
       "      <td>2038.0</td>\n",
       "      <td>2062.0</td>\n",
       "      <td>2035.0</td>\n",
       "      <td>...</td>\n",
       "      <td>2080.0</td>\n",
       "      <td>2126.0</td>\n",
       "      <td>2201.0</td>\n",
       "      <td>2246.0</td>\n",
       "      <td>2323.0</td>\n",
       "      <td>2483.0</td>\n",
       "      <td>2498.0</td>\n",
       "      <td>2395.0</td>\n",
       "      <td>2512.0</td>\n",
       "      <td>2701.0</td>\n",
       "    </tr>\n",
       "    <tr>\n",
       "      <td>Canada</td>\n",
       "      <td>276.0</td>\n",
       "      <td>287.0</td>\n",
       "      <td>296.0</td>\n",
       "      <td>318.0</td>\n",
       "      <td>341.0</td>\n",
       "      <td>352.0</td>\n",
       "      <td>361.0</td>\n",
       "      <td>367.0</td>\n",
       "      <td>371.0</td>\n",
       "      <td>369.0</td>\n",
       "      <td>...</td>\n",
       "      <td>394.0</td>\n",
       "      <td>401.0</td>\n",
       "      <td>414.0</td>\n",
       "      <td>425.0</td>\n",
       "      <td>445.0</td>\n",
       "      <td>468.0</td>\n",
       "      <td>470.0</td>\n",
       "      <td>474.0</td>\n",
       "      <td>504.0</td>\n",
       "      <td>526.0</td>\n",
       "    </tr>\n",
       "    <tr>\n",
       "      <td>United States</td>\n",
       "      <td>1647.0</td>\n",
       "      <td>1637.0</td>\n",
       "      <td>1642.0</td>\n",
       "      <td>1592.0</td>\n",
       "      <td>1652.0</td>\n",
       "      <td>1655.0</td>\n",
       "      <td>1673.0</td>\n",
       "      <td>1671.0</td>\n",
       "      <td>1691.0</td>\n",
       "      <td>1665.0</td>\n",
       "      <td>...</td>\n",
       "      <td>1686.0</td>\n",
       "      <td>1725.0</td>\n",
       "      <td>1787.0</td>\n",
       "      <td>1820.0</td>\n",
       "      <td>1878.0</td>\n",
       "      <td>2015.0</td>\n",
       "      <td>2028.0</td>\n",
       "      <td>1921.0</td>\n",
       "      <td>2007.0</td>\n",
       "      <td>2175.0</td>\n",
       "    </tr>\n",
       "    <tr>\n",
       "      <td>Latin America</td>\n",
       "      <td>620.0</td>\n",
       "      <td>644.0</td>\n",
       "      <td>652.0</td>\n",
       "      <td>668.0</td>\n",
       "      <td>690.0</td>\n",
       "      <td>719.0</td>\n",
       "      <td>774.0</td>\n",
       "      <td>812.0</td>\n",
       "      <td>826.0</td>\n",
       "      <td>818.0</td>\n",
       "      <td>...</td>\n",
       "      <td>977.0</td>\n",
       "      <td>998.0</td>\n",
       "      <td>1022.0</td>\n",
       "      <td>1029.0</td>\n",
       "      <td>1032.0</td>\n",
       "      <td>1036.0</td>\n",
       "      <td>1021.0</td>\n",
       "      <td>1000.0</td>\n",
       "      <td>968.0</td>\n",
       "      <td>921.0</td>\n",
       "    </tr>\n",
       "    <tr>\n",
       "      <td>Argentina</td>\n",
       "      <td>48.0</td>\n",
       "      <td>50.0</td>\n",
       "      <td>54.0</td>\n",
       "      <td>57.0</td>\n",
       "      <td>62.0</td>\n",
       "      <td>67.0</td>\n",
       "      <td>73.0</td>\n",
       "      <td>77.0</td>\n",
       "      <td>80.0</td>\n",
       "      <td>81.0</td>\n",
       "      <td>...</td>\n",
       "      <td>81.0</td>\n",
       "      <td>80.0</td>\n",
       "      <td>78.0</td>\n",
       "      <td>76.0</td>\n",
       "      <td>72.0</td>\n",
       "      <td>73.0</td>\n",
       "      <td>74.0</td>\n",
       "      <td>76.0</td>\n",
       "      <td>74.0</td>\n",
       "      <td>77.0</td>\n",
       "    </tr>\n",
       "    <tr>\n",
       "      <td>Brazil</td>\n",
       "      <td>104.0</td>\n",
       "      <td>105.0</td>\n",
       "      <td>105.0</td>\n",
       "      <td>106.0</td>\n",
       "      <td>111.0</td>\n",
       "      <td>112.0</td>\n",
       "      <td>119.0</td>\n",
       "      <td>127.0</td>\n",
       "      <td>134.0</td>\n",
       "      <td>142.0</td>\n",
       "      <td>...</td>\n",
       "      <td>231.0</td>\n",
       "      <td>247.0</td>\n",
       "      <td>250.0</td>\n",
       "      <td>251.0</td>\n",
       "      <td>252.0</td>\n",
       "      <td>266.0</td>\n",
       "      <td>278.0</td>\n",
       "      <td>284.0</td>\n",
       "      <td>292.0</td>\n",
       "      <td>292.0</td>\n",
       "    </tr>\n",
       "    <tr>\n",
       "      <td>Chile</td>\n",
       "      <td>8.0</td>\n",
       "      <td>8.0</td>\n",
       "      <td>9.0</td>\n",
       "      <td>8.0</td>\n",
       "      <td>8.0</td>\n",
       "      <td>8.0</td>\n",
       "      <td>8.0</td>\n",
       "      <td>8.0</td>\n",
       "      <td>8.0</td>\n",
       "      <td>8.0</td>\n",
       "      <td>...</td>\n",
       "      <td>10.0</td>\n",
       "      <td>9.0</td>\n",
       "      <td>10.0</td>\n",
       "      <td>13.0</td>\n",
       "      <td>15.0</td>\n",
       "      <td>12.0</td>\n",
       "      <td>12.0</td>\n",
       "      <td>13.0</td>\n",
       "      <td>12.0</td>\n",
       "      <td>13.0</td>\n",
       "    </tr>\n",
       "    <tr>\n",
       "      <td>Colombia</td>\n",
       "      <td>48.0</td>\n",
       "      <td>46.0</td>\n",
       "      <td>48.0</td>\n",
       "      <td>49.0</td>\n",
       "      <td>50.0</td>\n",
       "      <td>59.0</td>\n",
       "      <td>65.0</td>\n",
       "      <td>67.0</td>\n",
       "      <td>73.0</td>\n",
       "      <td>76.0</td>\n",
       "      <td>...</td>\n",
       "      <td>98.0</td>\n",
       "      <td>106.0</td>\n",
       "      <td>120.0</td>\n",
       "      <td>125.0</td>\n",
       "      <td>128.0</td>\n",
       "      <td>130.0</td>\n",
       "      <td>128.0</td>\n",
       "      <td>125.0</td>\n",
       "      <td>123.0</td>\n",
       "      <td>119.0</td>\n",
       "    </tr>\n",
       "    <tr>\n",
       "      <td>Mexico</td>\n",
       "      <td>195.0</td>\n",
       "      <td>204.0</td>\n",
       "      <td>203.0</td>\n",
       "      <td>206.0</td>\n",
       "      <td>205.0</td>\n",
       "      <td>204.0</td>\n",
       "      <td>214.0</td>\n",
       "      <td>226.0</td>\n",
       "      <td>226.0</td>\n",
       "      <td>225.0</td>\n",
       "      <td>...</td>\n",
       "      <td>224.0</td>\n",
       "      <td>215.0</td>\n",
       "      <td>217.0</td>\n",
       "      <td>219.0</td>\n",
       "      <td>217.0</td>\n",
       "      <td>209.0</td>\n",
       "      <td>190.0</td>\n",
       "      <td>180.0</td>\n",
       "      <td>165.0</td>\n",
       "      <td>158.0</td>\n",
       "    </tr>\n",
       "    <tr>\n",
       "      <td>Venezuela</td>\n",
       "      <td>145.0</td>\n",
       "      <td>160.0</td>\n",
       "      <td>162.0</td>\n",
       "      <td>171.0</td>\n",
       "      <td>178.0</td>\n",
       "      <td>192.0</td>\n",
       "      <td>217.0</td>\n",
       "      <td>229.0</td>\n",
       "      <td>227.0</td>\n",
       "      <td>206.0</td>\n",
       "      <td>...</td>\n",
       "      <td>200.0</td>\n",
       "      <td>198.0</td>\n",
       "      <td>199.0</td>\n",
       "      <td>194.0</td>\n",
       "      <td>192.0</td>\n",
       "      <td>186.0</td>\n",
       "      <td>183.0</td>\n",
       "      <td>168.0</td>\n",
       "      <td>149.0</td>\n",
       "      <td>112.0</td>\n",
       "    </tr>\n",
       "    <tr>\n",
       "      <td>Asia</td>\n",
       "      <td>1669.0</td>\n",
       "      <td>1714.0</td>\n",
       "      <td>1742.0</td>\n",
       "      <td>1790.0</td>\n",
       "      <td>1874.0</td>\n",
       "      <td>1995.0</td>\n",
       "      <td>2051.0</td>\n",
       "      <td>2071.0</td>\n",
       "      <td>2082.0</td>\n",
       "      <td>2105.0</td>\n",
       "      <td>...</td>\n",
       "      <td>3468.0</td>\n",
       "      <td>3722.0</td>\n",
       "      <td>3891.0</td>\n",
       "      <td>3907.0</td>\n",
       "      <td>3998.0</td>\n",
       "      <td>4059.0</td>\n",
       "      <td>4060.0</td>\n",
       "      <td>3954.0</td>\n",
       "      <td>4056.0</td>\n",
       "      <td>4171.0</td>\n",
       "    </tr>\n",
       "    <tr>\n",
       "      <td>China</td>\n",
       "      <td>881.0</td>\n",
       "      <td>887.0</td>\n",
       "      <td>904.0</td>\n",
       "      <td>933.0</td>\n",
       "      <td>986.0</td>\n",
       "      <td>1065.0</td>\n",
       "      <td>1091.0</td>\n",
       "      <td>1081.0</td>\n",
       "      <td>1079.0</td>\n",
       "      <td>1074.0</td>\n",
       "      <td>...</td>\n",
       "      <td>2052.0</td>\n",
       "      <td>2236.0</td>\n",
       "      <td>2386.0</td>\n",
       "      <td>2402.0</td>\n",
       "      <td>2467.0</td>\n",
       "      <td>2506.0</td>\n",
       "      <td>2516.0</td>\n",
       "      <td>2364.0</td>\n",
       "      <td>2448.0</td>\n",
       "      <td>2534.0</td>\n",
       "    </tr>\n",
       "    <tr>\n",
       "      <td>India</td>\n",
       "      <td>280.0</td>\n",
       "      <td>290.0</td>\n",
       "      <td>294.0</td>\n",
       "      <td>298.0</td>\n",
       "      <td>308.0</td>\n",
       "      <td>323.0</td>\n",
       "      <td>328.0</td>\n",
       "      <td>338.0</td>\n",
       "      <td>337.0</td>\n",
       "      <td>344.0</td>\n",
       "      <td>...</td>\n",
       "      <td>484.0</td>\n",
       "      <td>504.0</td>\n",
       "      <td>521.0</td>\n",
       "      <td>524.0</td>\n",
       "      <td>522.0</td>\n",
       "      <td>533.0</td>\n",
       "      <td>538.0</td>\n",
       "      <td>558.0</td>\n",
       "      <td>567.0</td>\n",
       "      <td>588.0</td>\n",
       "    </tr>\n",
       "    <tr>\n",
       "      <td>Indonesia</td>\n",
       "      <td>169.0</td>\n",
       "      <td>183.0</td>\n",
       "      <td>187.0</td>\n",
       "      <td>194.0</td>\n",
       "      <td>208.0</td>\n",
       "      <td>215.0</td>\n",
       "      <td>223.0</td>\n",
       "      <td>228.0</td>\n",
       "      <td>229.0</td>\n",
       "      <td>238.0</td>\n",
       "      <td>...</td>\n",
       "      <td>351.0</td>\n",
       "      <td>378.0</td>\n",
       "      <td>421.0</td>\n",
       "      <td>433.0</td>\n",
       "      <td>453.0</td>\n",
       "      <td>449.0</td>\n",
       "      <td>426.0</td>\n",
       "      <td>434.0</td>\n",
       "      <td>438.0</td>\n",
       "      <td>441.0</td>\n",
       "    </tr>\n",
       "    <tr>\n",
       "      <td>Japan</td>\n",
       "      <td>76.0</td>\n",
       "      <td>80.0</td>\n",
       "      <td>81.0</td>\n",
       "      <td>89.0</td>\n",
       "      <td>91.0</td>\n",
       "      <td>100.0</td>\n",
       "      <td>102.0</td>\n",
       "      <td>107.0</td>\n",
       "      <td>109.0</td>\n",
       "      <td>105.0</td>\n",
       "      <td>...</td>\n",
       "      <td>98.0</td>\n",
       "      <td>102.0</td>\n",
       "      <td>54.0</td>\n",
       "      <td>31.0</td>\n",
       "      <td>30.0</td>\n",
       "      <td>29.0</td>\n",
       "      <td>34.0</td>\n",
       "      <td>37.0</td>\n",
       "      <td>42.0</td>\n",
       "      <td>48.0</td>\n",
       "    </tr>\n",
       "    <tr>\n",
       "      <td>Malaysia</td>\n",
       "      <td>48.0</td>\n",
       "      <td>53.0</td>\n",
       "      <td>54.0</td>\n",
       "      <td>56.0</td>\n",
       "      <td>58.0</td>\n",
       "      <td>64.0</td>\n",
       "      <td>70.0</td>\n",
       "      <td>75.0</td>\n",
       "      <td>75.0</td>\n",
       "      <td>74.0</td>\n",
       "      <td>...</td>\n",
       "      <td>91.0</td>\n",
       "      <td>90.0</td>\n",
       "      <td>88.0</td>\n",
       "      <td>88.0</td>\n",
       "      <td>94.0</td>\n",
       "      <td>95.0</td>\n",
       "      <td>97.0</td>\n",
       "      <td>98.0</td>\n",
       "      <td>102.0</td>\n",
       "      <td>98.0</td>\n",
       "    </tr>\n",
       "    <tr>\n",
       "      <td>South Korea</td>\n",
       "      <td>24.0</td>\n",
       "      <td>23.0</td>\n",
       "      <td>21.0</td>\n",
       "      <td>21.0</td>\n",
       "      <td>20.0</td>\n",
       "      <td>22.0</td>\n",
       "      <td>23.0</td>\n",
       "      <td>25.0</td>\n",
       "      <td>28.0</td>\n",
       "      <td>32.0</td>\n",
       "      <td>...</td>\n",
       "      <td>49.0</td>\n",
       "      <td>51.0</td>\n",
       "      <td>53.0</td>\n",
       "      <td>53.0</td>\n",
       "      <td>51.0</td>\n",
       "      <td>58.0</td>\n",
       "      <td>62.0</td>\n",
       "      <td>62.0</td>\n",
       "      <td>63.0</td>\n",
       "      <td>61.0</td>\n",
       "    </tr>\n",
       "    <tr>\n",
       "      <td>Taiwan</td>\n",
       "      <td>11.0</td>\n",
       "      <td>11.0</td>\n",
       "      <td>10.0</td>\n",
       "      <td>10.0</td>\n",
       "      <td>11.0</td>\n",
       "      <td>11.0</td>\n",
       "      <td>11.0</td>\n",
       "      <td>11.0</td>\n",
       "      <td>11.0</td>\n",
       "      <td>12.0</td>\n",
       "      <td>...</td>\n",
       "      <td>13.0</td>\n",
       "      <td>13.0</td>\n",
       "      <td>14.0</td>\n",
       "      <td>13.0</td>\n",
       "      <td>14.0</td>\n",
       "      <td>14.0</td>\n",
       "      <td>12.0</td>\n",
       "      <td>11.0</td>\n",
       "      <td>8.0</td>\n",
       "      <td>10.0</td>\n",
       "    </tr>\n",
       "    <tr>\n",
       "      <td>Thailand</td>\n",
       "      <td>27.0</td>\n",
       "      <td>30.0</td>\n",
       "      <td>31.0</td>\n",
       "      <td>30.0</td>\n",
       "      <td>32.0</td>\n",
       "      <td>33.0</td>\n",
       "      <td>37.0</td>\n",
       "      <td>40.0</td>\n",
       "      <td>40.0</td>\n",
       "      <td>42.0</td>\n",
       "      <td>...</td>\n",
       "      <td>65.0</td>\n",
       "      <td>71.0</td>\n",
       "      <td>69.0</td>\n",
       "      <td>75.0</td>\n",
       "      <td>78.0</td>\n",
       "      <td>79.0</td>\n",
       "      <td>75.0</td>\n",
       "      <td>79.0</td>\n",
       "      <td>75.0</td>\n",
       "      <td>74.0</td>\n",
       "    </tr>\n",
       "    <tr>\n",
       "      <td>Pacific</td>\n",
       "      <td>176.0</td>\n",
       "      <td>187.0</td>\n",
       "      <td>192.0</td>\n",
       "      <td>195.0</td>\n",
       "      <td>194.0</td>\n",
       "      <td>207.0</td>\n",
       "      <td>211.0</td>\n",
       "      <td>221.0</td>\n",
       "      <td>236.0</td>\n",
       "      <td>234.0</td>\n",
       "      <td>...</td>\n",
       "      <td>315.0</td>\n",
       "      <td>343.0</td>\n",
       "      <td>331.0</td>\n",
       "      <td>340.0</td>\n",
       "      <td>364.0</td>\n",
       "      <td>390.0</td>\n",
       "      <td>409.0</td>\n",
       "      <td>418.0</td>\n",
       "      <td>435.0</td>\n",
       "      <td>455.0</td>\n",
       "    </tr>\n",
       "    <tr>\n",
       "      <td>Australia</td>\n",
       "      <td>157.0</td>\n",
       "      <td>167.0</td>\n",
       "      <td>171.0</td>\n",
       "      <td>174.0</td>\n",
       "      <td>173.0</td>\n",
       "      <td>187.0</td>\n",
       "      <td>190.0</td>\n",
       "      <td>201.0</td>\n",
       "      <td>217.0</td>\n",
       "      <td>214.0</td>\n",
       "      <td>...</td>\n",
       "      <td>295.0</td>\n",
       "      <td>323.0</td>\n",
       "      <td>313.0</td>\n",
       "      <td>321.0</td>\n",
       "      <td>344.0</td>\n",
       "      <td>366.0</td>\n",
       "      <td>381.0</td>\n",
       "      <td>391.0</td>\n",
       "      <td>407.0</td>\n",
       "      <td>426.0</td>\n",
       "    </tr>\n",
       "    <tr>\n",
       "      <td>New Zealand</td>\n",
       "      <td>12.0</td>\n",
       "      <td>13.0</td>\n",
       "      <td>13.0</td>\n",
       "      <td>14.0</td>\n",
       "      <td>13.0</td>\n",
       "      <td>13.0</td>\n",
       "      <td>14.0</td>\n",
       "      <td>15.0</td>\n",
       "      <td>14.0</td>\n",
       "      <td>14.0</td>\n",
       "      <td>...</td>\n",
       "      <td>15.0</td>\n",
       "      <td>17.0</td>\n",
       "      <td>16.0</td>\n",
       "      <td>16.0</td>\n",
       "      <td>16.0</td>\n",
       "      <td>17.0</td>\n",
       "      <td>17.0</td>\n",
       "      <td>16.0</td>\n",
       "      <td>16.0</td>\n",
       "      <td>15.0</td>\n",
       "    </tr>\n",
       "    <tr>\n",
       "      <td>Africa</td>\n",
       "      <td>679.0</td>\n",
       "      <td>705.0</td>\n",
       "      <td>714.0</td>\n",
       "      <td>726.0</td>\n",
       "      <td>735.0</td>\n",
       "      <td>763.0</td>\n",
       "      <td>791.0</td>\n",
       "      <td>828.0</td>\n",
       "      <td>841.0</td>\n",
       "      <td>851.0</td>\n",
       "      <td>...</td>\n",
       "      <td>1125.0</td>\n",
       "      <td>1163.0</td>\n",
       "      <td>1091.0</td>\n",
       "      <td>1152.0</td>\n",
       "      <td>1109.0</td>\n",
       "      <td>1102.0</td>\n",
       "      <td>1101.0</td>\n",
       "      <td>1088.0</td>\n",
       "      <td>1138.0</td>\n",
       "      <td>1154.0</td>\n",
       "    </tr>\n",
       "    <tr>\n",
       "      <td>Algeria</td>\n",
       "      <td>100.0</td>\n",
       "      <td>103.0</td>\n",
       "      <td>104.0</td>\n",
       "      <td>105.0</td>\n",
       "      <td>101.0</td>\n",
       "      <td>107.0</td>\n",
       "      <td>113.0</td>\n",
       "      <td>122.0</td>\n",
       "      <td>127.0</td>\n",
       "      <td>137.0</td>\n",
       "      <td>...</td>\n",
       "      <td>153.0</td>\n",
       "      <td>151.0</td>\n",
       "      <td>146.0</td>\n",
       "      <td>144.0</td>\n",
       "      <td>138.0</td>\n",
       "      <td>143.0</td>\n",
       "      <td>143.0</td>\n",
       "      <td>153.0</td>\n",
       "      <td>153.0</td>\n",
       "      <td>151.0</td>\n",
       "    </tr>\n",
       "    <tr>\n",
       "      <td>Egypt</td>\n",
       "      <td>55.0</td>\n",
       "      <td>56.0</td>\n",
       "      <td>57.0</td>\n",
       "      <td>60.0</td>\n",
       "      <td>59.0</td>\n",
       "      <td>60.0</td>\n",
       "      <td>59.0</td>\n",
       "      <td>58.0</td>\n",
       "      <td>57.0</td>\n",
       "      <td>59.0</td>\n",
       "      <td>...</td>\n",
       "      <td>88.0</td>\n",
       "      <td>84.0</td>\n",
       "      <td>84.0</td>\n",
       "      <td>82.0</td>\n",
       "      <td>77.0</td>\n",
       "      <td>74.0</td>\n",
       "      <td>70.0</td>\n",
       "      <td>68.0</td>\n",
       "      <td>72.0</td>\n",
       "      <td>80.0</td>\n",
       "    </tr>\n",
       "    <tr>\n",
       "      <td>Nigeria</td>\n",
       "      <td>146.0</td>\n",
       "      <td>152.0</td>\n",
       "      <td>158.0</td>\n",
       "      <td>160.0</td>\n",
       "      <td>162.0</td>\n",
       "      <td>165.0</td>\n",
       "      <td>177.0</td>\n",
       "      <td>189.0</td>\n",
       "      <td>185.0</td>\n",
       "      <td>183.0</td>\n",
       "      <td>...</td>\n",
       "      <td>225.0</td>\n",
       "      <td>254.0</td>\n",
       "      <td>259.0</td>\n",
       "      <td>266.0</td>\n",
       "      <td>250.0</td>\n",
       "      <td>254.0</td>\n",
       "      <td>254.0</td>\n",
       "      <td>240.0</td>\n",
       "      <td>246.0</td>\n",
       "      <td>256.0</td>\n",
       "    </tr>\n",
       "    <tr>\n",
       "      <td>South Africa</td>\n",
       "      <td>115.0</td>\n",
       "      <td>117.0</td>\n",
       "      <td>115.0</td>\n",
       "      <td>123.0</td>\n",
       "      <td>128.0</td>\n",
       "      <td>135.0</td>\n",
       "      <td>135.0</td>\n",
       "      <td>143.0</td>\n",
       "      <td>145.0</td>\n",
       "      <td>145.0</td>\n",
       "      <td>...</td>\n",
       "      <td>158.0</td>\n",
       "      <td>161.0</td>\n",
       "      <td>160.0</td>\n",
       "      <td>163.0</td>\n",
       "      <td>162.0</td>\n",
       "      <td>165.0</td>\n",
       "      <td>162.0</td>\n",
       "      <td>163.0</td>\n",
       "      <td>164.0</td>\n",
       "      <td>164.0</td>\n",
       "    </tr>\n",
       "    <tr>\n",
       "      <td>Middle-East</td>\n",
       "      <td>940.0</td>\n",
       "      <td>940.0</td>\n",
       "      <td>1038.0</td>\n",
       "      <td>1103.0</td>\n",
       "      <td>1121.0</td>\n",
       "      <td>1138.0</td>\n",
       "      <td>1147.0</td>\n",
       "      <td>1205.0</td>\n",
       "      <td>1268.0</td>\n",
       "      <td>1247.0</td>\n",
       "      <td>...</td>\n",
       "      <td>1548.0</td>\n",
       "      <td>1629.0</td>\n",
       "      <td>1768.0</td>\n",
       "      <td>1792.0</td>\n",
       "      <td>1811.0</td>\n",
       "      <td>1836.0</td>\n",
       "      <td>1898.0</td>\n",
       "      <td>2057.0</td>\n",
       "      <td>2051.0</td>\n",
       "      <td>2091.0</td>\n",
       "    </tr>\n",
       "    <tr>\n",
       "      <td>Iran</td>\n",
       "      <td>188.0</td>\n",
       "      <td>200.0</td>\n",
       "      <td>215.0</td>\n",
       "      <td>228.0</td>\n",
       "      <td>231.0</td>\n",
       "      <td>238.0</td>\n",
       "      <td>235.0</td>\n",
       "      <td>238.0</td>\n",
       "      <td>241.0</td>\n",
       "      <td>244.0</td>\n",
       "      <td>...</td>\n",
       "      <td>334.0</td>\n",
       "      <td>342.0</td>\n",
       "      <td>346.0</td>\n",
       "      <td>297.0</td>\n",
       "      <td>298.0</td>\n",
       "      <td>316.0</td>\n",
       "      <td>323.0</td>\n",
       "      <td>391.0</td>\n",
       "      <td>419.0</td>\n",
       "      <td>418.0</td>\n",
       "    </tr>\n",
       "    <tr>\n",
       "      <td>Kuwait</td>\n",
       "      <td>50.0</td>\n",
       "      <td>10.0</td>\n",
       "      <td>60.0</td>\n",
       "      <td>107.0</td>\n",
       "      <td>114.0</td>\n",
       "      <td>115.0</td>\n",
       "      <td>115.0</td>\n",
       "      <td>115.0</td>\n",
       "      <td>117.0</td>\n",
       "      <td>108.0</td>\n",
       "      <td>...</td>\n",
       "      <td>130.0</td>\n",
       "      <td>135.0</td>\n",
       "      <td>154.0</td>\n",
       "      <td>173.0</td>\n",
       "      <td>170.0</td>\n",
       "      <td>166.0</td>\n",
       "      <td>168.0</td>\n",
       "      <td>175.0</td>\n",
       "      <td>165.0</td>\n",
       "      <td>168.0</td>\n",
       "    </tr>\n",
       "    <tr>\n",
       "      <td>Saudi Arabia</td>\n",
       "      <td>368.0</td>\n",
       "      <td>464.0</td>\n",
       "      <td>477.0</td>\n",
       "      <td>472.0</td>\n",
       "      <td>462.0</td>\n",
       "      <td>464.0</td>\n",
       "      <td>469.0</td>\n",
       "      <td>464.0</td>\n",
       "      <td>479.0</td>\n",
       "      <td>442.0</td>\n",
       "      <td>...</td>\n",
       "      <td>519.0</td>\n",
       "      <td>531.0</td>\n",
       "      <td>593.0</td>\n",
       "      <td>625.0</td>\n",
       "      <td>614.0</td>\n",
       "      <td>622.0</td>\n",
       "      <td>649.0</td>\n",
       "      <td>671.0</td>\n",
       "      <td>653.0</td>\n",
       "      <td>676.0</td>\n",
       "    </tr>\n",
       "    <tr>\n",
       "      <td>United Arab Emirates</td>\n",
       "      <td>110.0</td>\n",
       "      <td>127.0</td>\n",
       "      <td>134.0</td>\n",
       "      <td>131.0</td>\n",
       "      <td>134.0</td>\n",
       "      <td>137.0</td>\n",
       "      <td>140.0</td>\n",
       "      <td>147.0</td>\n",
       "      <td>150.0</td>\n",
       "      <td>142.0</td>\n",
       "      <td>...</td>\n",
       "      <td>172.0</td>\n",
       "      <td>178.0</td>\n",
       "      <td>197.0</td>\n",
       "      <td>205.0</td>\n",
       "      <td>212.0</td>\n",
       "      <td>215.0</td>\n",
       "      <td>230.0</td>\n",
       "      <td>237.0</td>\n",
       "      <td>229.0</td>\n",
       "      <td>234.0</td>\n",
       "    </tr>\n",
       "    <tr>\n",
       "      <td>tot/an</td>\n",
       "      <td>37597.0</td>\n",
       "      <td>37703.0</td>\n",
       "      <td>37863.0</td>\n",
       "      <td>37886.0</td>\n",
       "      <td>38634.0</td>\n",
       "      <td>39492.0</td>\n",
       "      <td>40446.0</td>\n",
       "      <td>40816.0</td>\n",
       "      <td>41164.0</td>\n",
       "      <td>41080.0</td>\n",
       "      <td>...</td>\n",
       "      <td>49523.0</td>\n",
       "      <td>51690.0</td>\n",
       "      <td>52923.0</td>\n",
       "      <td>53505.0</td>\n",
       "      <td>54359.0</td>\n",
       "      <td>55576.0</td>\n",
       "      <td>55894.0</td>\n",
       "      <td>55261.0</td>\n",
       "      <td>56647.0</td>\n",
       "      <td>58555.0</td>\n",
       "    </tr>\n",
       "  </tbody>\n",
       "</table>\n",
       "<p>59 rows × 29 columns</p>\n",
       "</div>"
      ],
      "text/plain": [
       "                         1990     1991     1992     1993     1994     1995  \\\n",
       "Unnamed: 0                                                                   \n",
       "World                  8796.0   8813.0   8866.0   8902.0   9034.0   9251.0   \n",
       "OECD                   3446.0   3476.0   3501.0   3499.0   3617.0   3679.0   \n",
       "G7                     2535.0   2533.0   2546.0   2530.0   2636.0   2666.0   \n",
       "BRICS                  2676.0   2619.0   2561.0   2522.0   2528.0   2604.0   \n",
       "Europe                 1133.0   1133.0   1137.0   1148.0   1176.0   1207.0   \n",
       "European Union          955.0    945.0    933.0    937.0    953.0    968.0   \n",
       "Belgium                  13.0     13.0     13.0     12.0     12.0     12.0   \n",
       "Czech Republic           41.0     39.0     37.0     36.0     34.0     33.0   \n",
       "France                  112.0    119.0    120.0    126.0    124.0    128.0   \n",
       "Germany                 190.0    169.0    164.0    153.0    145.0    145.0   \n",
       "Italy                    26.0     26.0     28.0     29.0     30.0     30.0   \n",
       "Netherlands              61.0     68.0     68.0     69.0     67.0     67.0   \n",
       "Poland                  104.0    100.0     98.0     97.0     98.0    100.0   \n",
       "Portugal                  3.0      3.0      3.0      3.0      3.0      3.0   \n",
       "Romania                  41.0     36.0     34.0     33.0     32.0     32.0   \n",
       "Spain                    35.0     35.0     34.0     33.0     32.0     32.0   \n",
       "Sweden                   30.0     31.0     29.0     29.0     31.0     32.0   \n",
       "United Kingdom          208.0    215.0    215.0    223.0    252.0    258.0   \n",
       "Norway                  119.0    131.0    147.0    155.0    171.0    185.0   \n",
       "Turkey                   26.0     26.0     26.0     26.0     26.0     26.0   \n",
       "CIS                    1656.0   1565.0   1453.0   1362.0   1250.0   1215.0   \n",
       "Kazakhstan               91.0     92.0     90.0     79.0     71.0     64.0   \n",
       "Russia                 1296.0   1220.0   1143.0   1063.0    994.0    970.0   \n",
       "Ukraine                 127.0    111.0    104.0     95.0     83.0     78.0   \n",
       "Uzbekistan               39.0     40.0     41.0     43.0     46.0     49.0   \n",
       "America                2543.0   2568.0   2590.0   2578.0   2684.0   2726.0   \n",
       "North America          1923.0   1924.0   1939.0   1910.0   1993.0   2007.0   \n",
       "Canada                  276.0    287.0    296.0    318.0    341.0    352.0   \n",
       "United States          1647.0   1637.0   1642.0   1592.0   1652.0   1655.0   \n",
       "Latin America           620.0    644.0    652.0    668.0    690.0    719.0   \n",
       "Argentina                48.0     50.0     54.0     57.0     62.0     67.0   \n",
       "Brazil                  104.0    105.0    105.0    106.0    111.0    112.0   \n",
       "Chile                     8.0      8.0      9.0      8.0      8.0      8.0   \n",
       "Colombia                 48.0     46.0     48.0     49.0     50.0     59.0   \n",
       "Mexico                  195.0    204.0    203.0    206.0    205.0    204.0   \n",
       "Venezuela               145.0    160.0    162.0    171.0    178.0    192.0   \n",
       "Asia                   1669.0   1714.0   1742.0   1790.0   1874.0   1995.0   \n",
       "China                   881.0    887.0    904.0    933.0    986.0   1065.0   \n",
       "India                   280.0    290.0    294.0    298.0    308.0    323.0   \n",
       "Indonesia               169.0    183.0    187.0    194.0    208.0    215.0   \n",
       "Japan                    76.0     80.0     81.0     89.0     91.0    100.0   \n",
       "Malaysia                 48.0     53.0     54.0     56.0     58.0     64.0   \n",
       "South Korea              24.0     23.0     21.0     21.0     20.0     22.0   \n",
       "Taiwan                   11.0     11.0     10.0     10.0     11.0     11.0   \n",
       "Thailand                 27.0     30.0     31.0     30.0     32.0     33.0   \n",
       "Pacific                 176.0    187.0    192.0    195.0    194.0    207.0   \n",
       "Australia               157.0    167.0    171.0    174.0    173.0    187.0   \n",
       "New Zealand              12.0     13.0     13.0     14.0     13.0     13.0   \n",
       "Africa                  679.0    705.0    714.0    726.0    735.0    763.0   \n",
       "Algeria                 100.0    103.0    104.0    105.0    101.0    107.0   \n",
       "Egypt                    55.0     56.0     57.0     60.0     59.0     60.0   \n",
       "Nigeria                 146.0    152.0    158.0    160.0    162.0    165.0   \n",
       "South Africa            115.0    117.0    115.0    123.0    128.0    135.0   \n",
       "Middle-East             940.0    940.0   1038.0   1103.0   1121.0   1138.0   \n",
       "Iran                    188.0    200.0    215.0    228.0    231.0    238.0   \n",
       "Kuwait                   50.0     10.0     60.0    107.0    114.0    115.0   \n",
       "Saudi Arabia            368.0    464.0    477.0    472.0    462.0    464.0   \n",
       "United Arab Emirates    110.0    127.0    134.0    131.0    134.0    137.0   \n",
       "tot/an                37597.0  37703.0  37863.0  37886.0  38634.0  39492.0   \n",
       "\n",
       "                         1996     1997     1998     1999  ...     2009  \\\n",
       "Unnamed: 0                                                ...            \n",
       "World                  9479.0   9602.0   9718.0   9727.0  ...  12216.0   \n",
       "OECD                   3778.0   3809.0   3823.0   3799.0  ...   3819.0   \n",
       "G7                     2711.0   2717.0   2736.0   2716.0  ...   2623.0   \n",
       "BRICS                  2642.0   2626.0   2639.0   2666.0  ...   4115.0   \n",
       "Europe                 1263.0   1259.0   1227.0   1228.0  ...   1112.0   \n",
       "European Union         1000.0    988.0    960.0    961.0  ...    827.0   \n",
       "Belgium                  12.0     13.0     13.0     14.0  ...     15.0   \n",
       "Czech Republic           33.0     34.0     32.0     29.0  ...     32.0   \n",
       "France                  132.0    129.0    125.0    127.0  ...    129.0   \n",
       "Germany                 143.0    145.0    137.0    138.0  ...    126.0   \n",
       "Italy                    31.0     31.0     31.0     29.0  ...     32.0   \n",
       "Netherlands              75.0     67.0     64.0     60.0  ...     63.0   \n",
       "Poland                  102.0    100.0     87.0     84.0  ...     67.0   \n",
       "Portugal                  4.0      4.0      4.0      3.0  ...      5.0   \n",
       "Romania                  33.0     32.0     29.0     28.0  ...     28.0   \n",
       "Spain                    33.0     32.0     33.0     31.0  ...     30.0   \n",
       "Sweden                   32.0     32.0     34.0     33.0  ...     30.0   \n",
       "United Kingdom          269.0    268.0    272.0    282.0  ...    158.0   \n",
       "Norway                  208.0    213.0    207.0    210.0  ...    217.0   \n",
       "Turkey                   27.0     28.0     29.0     28.0  ...     30.0   \n",
       "CIS                    1208.0   1168.0   1176.0   1208.0  ...   1589.0   \n",
       "Kazakhstan               64.0     66.0     65.0     66.0  ...    148.0   \n",
       "Russia                  969.0    937.0    944.0    962.0  ...   1190.0   \n",
       "Ukraine                  71.0     71.0     71.0     72.0  ...     79.0   \n",
       "Uzbekistan               49.0     51.0     55.0     55.0  ...     57.0   \n",
       "America                2808.0   2850.0   2888.0   2853.0  ...   3057.0   \n",
       "North America          2034.0   2038.0   2062.0   2035.0  ...   2080.0   \n",
       "Canada                  361.0    367.0    371.0    369.0  ...    394.0   \n",
       "United States          1673.0   1671.0   1691.0   1665.0  ...   1686.0   \n",
       "Latin America           774.0    812.0    826.0    818.0  ...    977.0   \n",
       "Argentina                73.0     77.0     80.0     81.0  ...     81.0   \n",
       "Brazil                  119.0    127.0    134.0    142.0  ...    231.0   \n",
       "Chile                     8.0      8.0      8.0      8.0  ...     10.0   \n",
       "Colombia                 65.0     67.0     73.0     76.0  ...     98.0   \n",
       "Mexico                  214.0    226.0    226.0    225.0  ...    224.0   \n",
       "Venezuela               217.0    229.0    227.0    206.0  ...    200.0   \n",
       "Asia                   2051.0   2071.0   2082.0   2105.0  ...   3468.0   \n",
       "China                  1091.0   1081.0   1079.0   1074.0  ...   2052.0   \n",
       "India                   328.0    338.0    337.0    344.0  ...    484.0   \n",
       "Indonesia               223.0    228.0    229.0    238.0  ...    351.0   \n",
       "Japan                   102.0    107.0    109.0    105.0  ...     98.0   \n",
       "Malaysia                 70.0     75.0     75.0     74.0  ...     91.0   \n",
       "South Korea              23.0     25.0     28.0     32.0  ...     49.0   \n",
       "Taiwan                   11.0     11.0     11.0     12.0  ...     13.0   \n",
       "Thailand                 37.0     40.0     40.0     42.0  ...     65.0   \n",
       "Pacific                 211.0    221.0    236.0    234.0  ...    315.0   \n",
       "Australia               190.0    201.0    217.0    214.0  ...    295.0   \n",
       "New Zealand              14.0     15.0     14.0     14.0  ...     15.0   \n",
       "Africa                  791.0    828.0    841.0    851.0  ...   1125.0   \n",
       "Algeria                 113.0    122.0    127.0    137.0  ...    153.0   \n",
       "Egypt                    59.0     58.0     57.0     59.0  ...     88.0   \n",
       "Nigeria                 177.0    189.0    185.0    183.0  ...    225.0   \n",
       "South Africa            135.0    143.0    145.0    145.0  ...    158.0   \n",
       "Middle-East            1147.0   1205.0   1268.0   1247.0  ...   1548.0   \n",
       "Iran                    235.0    238.0    241.0    244.0  ...    334.0   \n",
       "Kuwait                  115.0    115.0    117.0    108.0  ...    130.0   \n",
       "Saudi Arabia            469.0    464.0    479.0    442.0  ...    519.0   \n",
       "United Arab Emirates    140.0    147.0    150.0    142.0  ...    172.0   \n",
       "tot/an                40446.0  40816.0  41164.0  41080.0  ...  49523.0   \n",
       "\n",
       "                         2010     2011     2012     2013     2014     2015  \\\n",
       "Unnamed: 0                                                                   \n",
       "World                 12791.0  13119.0  13298.0  13486.0  13716.0  13802.0   \n",
       "OECD                   3897.0   3876.0   3906.0   3997.0   4159.0   4180.0   \n",
       "G7                     2674.0   2676.0   2686.0   2757.0   2915.0   2945.0   \n",
       "BRICS                  4428.0   4616.0   4655.0   4735.0   4790.0   4828.0   \n",
       "Europe                 1118.0   1079.0   1073.0   1062.0   1044.0   1047.0   \n",
       "European Union          844.0    812.0    803.0    798.0    780.0    773.0   \n",
       "Belgium                  16.0     16.0     14.0     15.0     13.0     11.0   \n",
       "Czech Republic           32.0     33.0     33.0     31.0     30.0     29.0   \n",
       "France                  136.0    136.0    135.0    137.0    138.0    139.0   \n",
       "Germany                 129.0    123.0    123.0    121.0    120.0    120.0   \n",
       "Italy                    33.0     32.0     35.0     37.0     37.0     36.0   \n",
       "Netherlands              71.0     66.0     66.0     70.0     60.0     48.0   \n",
       "Poland                   67.0     68.0     72.0     71.0     68.0     69.0   \n",
       "Portugal                  6.0      6.0      5.0      6.0      6.0      5.0   \n",
       "Romania                  28.0     28.0     27.0     26.0     27.0     27.0   \n",
       "Spain                    35.0     32.0     34.0     35.0     35.0     34.0   \n",
       "Sweden                   33.0     33.0     36.0     35.0     34.0     34.0   \n",
       "United Kingdom          148.0    130.0    117.0    110.0    108.0    118.0   \n",
       "Norway                  203.0    195.0    200.0    191.0    195.0    204.0   \n",
       "Turkey                   32.0     32.0     30.0     32.0     31.0     32.0   \n",
       "CIS                    1692.0   1737.0   1759.0   1786.0   1766.0   1769.0   \n",
       "Kazakhstan              157.0    160.0    165.0    169.0    166.0    164.0   \n",
       "Russia                 1279.0   1299.0   1316.0   1331.0   1319.0   1334.0   \n",
       "Ukraine                  79.0     86.0     85.0     86.0     77.0     64.0   \n",
       "Uzbekistan               55.0     57.0     57.0     54.0     56.0     56.0   \n",
       "America                3124.0   3223.0   3275.0   3355.0   3520.0   3519.0   \n",
       "North America          2126.0   2201.0   2246.0   2323.0   2483.0   2498.0   \n",
       "Canada                  401.0    414.0    425.0    445.0    468.0    470.0   \n",
       "United States          1725.0   1787.0   1820.0   1878.0   2015.0   2028.0   \n",
       "Latin America           998.0   1022.0   1029.0   1032.0   1036.0   1021.0   \n",
       "Argentina                80.0     78.0     76.0     72.0     73.0     74.0   \n",
       "Brazil                  247.0    250.0    251.0    252.0    266.0    278.0   \n",
       "Chile                     9.0     10.0     13.0     15.0     12.0     12.0   \n",
       "Colombia                106.0    120.0    125.0    128.0    130.0    128.0   \n",
       "Mexico                  215.0    217.0    219.0    217.0    209.0    190.0   \n",
       "Venezuela               198.0    199.0    194.0    192.0    186.0    183.0   \n",
       "Asia                   3722.0   3891.0   3907.0   3998.0   4059.0   4060.0   \n",
       "China                  2236.0   2386.0   2402.0   2467.0   2506.0   2516.0   \n",
       "India                   504.0    521.0    524.0    522.0    533.0    538.0   \n",
       "Indonesia               378.0    421.0    433.0    453.0    449.0    426.0   \n",
       "Japan                   102.0     54.0     31.0     30.0     29.0     34.0   \n",
       "Malaysia                 90.0     88.0     88.0     94.0     95.0     97.0   \n",
       "South Korea              51.0     53.0     53.0     51.0     58.0     62.0   \n",
       "Taiwan                   13.0     14.0     13.0     14.0     14.0     12.0   \n",
       "Thailand                 71.0     69.0     75.0     78.0     79.0     75.0   \n",
       "Pacific                 343.0    331.0    340.0    364.0    390.0    409.0   \n",
       "Australia               323.0    313.0    321.0    344.0    366.0    381.0   \n",
       "New Zealand              17.0     16.0     16.0     16.0     17.0     17.0   \n",
       "Africa                 1163.0   1091.0   1152.0   1109.0   1102.0   1101.0   \n",
       "Algeria                 151.0    146.0    144.0    138.0    143.0    143.0   \n",
       "Egypt                    84.0     84.0     82.0     77.0     74.0     70.0   \n",
       "Nigeria                 254.0    259.0    266.0    250.0    254.0    254.0   \n",
       "South Africa            161.0    160.0    163.0    162.0    165.0    162.0   \n",
       "Middle-East            1629.0   1768.0   1792.0   1811.0   1836.0   1898.0   \n",
       "Iran                    342.0    346.0    297.0    298.0    316.0    323.0   \n",
       "Kuwait                  135.0    154.0    173.0    170.0    166.0    168.0   \n",
       "Saudi Arabia            531.0    593.0    625.0    614.0    622.0    649.0   \n",
       "United Arab Emirates    178.0    197.0    205.0    212.0    215.0    230.0   \n",
       "tot/an                51690.0  52923.0  53505.0  54359.0  55576.0  55894.0   \n",
       "\n",
       "                         2016     2017     2018  \n",
       "Unnamed: 0                                       \n",
       "World                 13754.0  14068.0  14468.0  \n",
       "OECD                   4080.0   4207.0   4408.0  \n",
       "G7                     2833.0   2953.0   3159.0  \n",
       "BRICS                  4742.0   4901.0   5071.0  \n",
       "Europe                 1044.0   1047.0   1043.0  \n",
       "European Union          761.0    758.0    753.0  \n",
       "Belgium                  15.0     15.0     12.0  \n",
       "Czech Republic           27.0     28.0     28.0  \n",
       "France                  131.0    130.0    135.0  \n",
       "Germany                 116.0    115.0    115.0  \n",
       "Italy                    34.0     34.0     36.0  \n",
       "Netherlands              46.0     42.0     31.0  \n",
       "Poland                   67.0     66.0     64.0  \n",
       "Portugal                  6.0      5.0      6.0  \n",
       "Romania                  25.0     26.0     25.0  \n",
       "Spain                    34.0     33.0     34.0  \n",
       "Sweden                   35.0     36.0     37.0  \n",
       "United Kingdom          120.0    120.0    124.0  \n",
       "Norway                  208.0    214.0    207.0  \n",
       "Turkey                   36.0     37.0     43.0  \n",
       "CIS                    1798.0   1862.0   1933.0  \n",
       "Kazakhstan              163.0    180.0    190.0  \n",
       "Russia                 1373.0   1429.0   1492.0  \n",
       "Ukraine                  66.0     58.0     58.0  \n",
       "Uzbekistan               51.0     51.0     54.0  \n",
       "America                3395.0   3479.0   3622.0  \n",
       "North America          2395.0   2512.0   2701.0  \n",
       "Canada                  474.0    504.0    526.0  \n",
       "United States          1921.0   2007.0   2175.0  \n",
       "Latin America          1000.0    968.0    921.0  \n",
       "Argentina                76.0     74.0     77.0  \n",
       "Brazil                  284.0    292.0    292.0  \n",
       "Chile                    13.0     12.0     13.0  \n",
       "Colombia                125.0    123.0    119.0  \n",
       "Mexico                  180.0    165.0    158.0  \n",
       "Venezuela               168.0    149.0    112.0  \n",
       "Asia                   3954.0   4056.0   4171.0  \n",
       "China                  2364.0   2448.0   2534.0  \n",
       "India                   558.0    567.0    588.0  \n",
       "Indonesia               434.0    438.0    441.0  \n",
       "Japan                    37.0     42.0     48.0  \n",
       "Malaysia                 98.0    102.0     98.0  \n",
       "South Korea              62.0     63.0     61.0  \n",
       "Taiwan                   11.0      8.0     10.0  \n",
       "Thailand                 79.0     75.0     74.0  \n",
       "Pacific                 418.0    435.0    455.0  \n",
       "Australia               391.0    407.0    426.0  \n",
       "New Zealand              16.0     16.0     15.0  \n",
       "Africa                 1088.0   1138.0   1154.0  \n",
       "Algeria                 153.0    153.0    151.0  \n",
       "Egypt                    68.0     72.0     80.0  \n",
       "Nigeria                 240.0    246.0    256.0  \n",
       "South Africa            163.0    164.0    164.0  \n",
       "Middle-East            2057.0   2051.0   2091.0  \n",
       "Iran                    391.0    419.0    418.0  \n",
       "Kuwait                  175.0    165.0    168.0  \n",
       "Saudi Arabia            671.0    653.0    676.0  \n",
       "United Arab Emirates    237.0    229.0    234.0  \n",
       "tot/an                55261.0  56647.0  58555.0  \n",
       "\n",
       "[59 rows x 29 columns]"
      ]
     },
     "execution_count": 182,
     "metadata": {},
     "output_type": "execute_result"
    }
   ],
   "source": [
    "df_production"
   ]
  },
  {
   "cell_type": "code",
   "execution_count": 251,
   "metadata": {},
   "outputs": [
    {
     "data": {
      "text/plain": [
       "Text(0.5, 1.0, \"Production d'énergie\")"
      ]
     },
     "execution_count": 251,
     "metadata": {},
     "output_type": "execute_result"
    },
    {
     "data": {
      "image/png": "[encoded data removed]",
      "text/plain": [
       "<Figure size 1440x720 with 1 Axes>"
      ]
     },
     "metadata": {
      "needs_background": "light"
     },
     "output_type": "display_data"
    }
   ],
   "source": [
    "#plt.figure\n",
    "fig = plt.figure(1, figsize=(20, 10))\n",
    "ax1 = plt.plot(df_production.columns, df_production.loc[\"World\"])\n",
    "ax2 = plt.plot(df_consumption.columns, df_consumption.loc[\"World\"])\n",
    "#ax1([2000,2019])\n",
    "\n",
    "#ax1.legend(\"dsf\")\n",
    "\n",
    "plt.title(\"Production d'énergie\")"
   ]
  },
  {
   "cell_type": "code",
   "execution_count": 256,
   "metadata": {},
   "outputs": [
    {
     "data": {
      "application/vnd.plotly.v1+json": {
       "config": {
        "plotlyServerURL": "https://plot.ly"
       },
       "data": [
        {
         "hoverlabel": {
          "namelength": 0
         },
         "hovertemplate": "sex=Female<br>smoker=No",
         "legendgroup": "sex=Female",
         "marker": {
          "color": "#636efa",
          "symbol": "circle"
         },
         "mode": "markers",
         "name": "sex=Female",
         "showlegend": true,
         "type": "scatter",
         "xaxis": "x",
         "yaxis": "y"
        },
        {
         "hoverlabel": {
          "namelength": 0
         },
         "hovertemplate": "sex=Female<br>smoker=No",
         "legendgroup": "sex=Female",
         "marker": {
          "color": "#636efa",
          "symbol": "circle"
         },
         "mode": "lines",
         "name": "sex=Female",
         "showlegend": false,
         "type": "scatter",
         "xaxis": "x",
         "yaxis": "y"
        },
        {
         "hoverlabel": {
          "namelength": 0
         },
         "hovertemplate": "sex=Female<br>smoker=Yes",
         "legendgroup": "sex=Female",
         "marker": {
          "color": "#636efa",
          "symbol": "circle"
         },
         "mode": "markers",
         "name": "sex=Female",
         "showlegend": false,
         "type": "scatter",
         "xaxis": "x2",
         "yaxis": "y2"
        },
        {
         "hoverlabel": {
          "namelength": 0
         },
         "hovertemplate": "sex=Female<br>smoker=Yes",
         "legendgroup": "sex=Female",
         "marker": {
          "color": "#636efa",
          "symbol": "circle"
         },
         "mode": "lines",
         "name": "sex=Female",
         "showlegend": false,
         "type": "scatter",
         "xaxis": "x2",
         "yaxis": "y2"
        },
        {
         "hoverlabel": {
          "namelength": 0
         },
         "hovertemplate": "sex=Male<br>smoker=No",
         "legendgroup": "sex=Male",
         "marker": {
          "color": "#EF553B",
          "symbol": "circle"
         },
         "mode": "markers",
         "name": "sex=Male",
         "showlegend": true,
         "type": "scatter",
         "xaxis": "x",
         "yaxis": "y"
        },
        {
         "hoverlabel": {
          "namelength": 0
         },
         "hovertemplate": "sex=Male<br>smoker=No",
         "legendgroup": "sex=Male",
         "marker": {
          "color": "#EF553B",
          "symbol": "circle"
         },
         "mode": "lines",
         "name": "sex=Male",
         "showlegend": false,
         "type": "scatter",
         "xaxis": "x",
         "yaxis": "y"
        },
        {
         "hoverlabel": {
          "namelength": 0
         },
         "hovertemplate": "sex=Male<br>smoker=Yes",
         "legendgroup": "sex=Male",
         "marker": {
          "color": "#EF553B",
          "symbol": "circle"
         },
         "mode": "markers",
         "name": "sex=Male",
         "showlegend": false,
         "type": "scatter",
         "xaxis": "x2",
         "yaxis": "y2"
        },
        {
         "hoverlabel": {
          "namelength": 0
         },
         "hovertemplate": "sex=Male<br>smoker=Yes",
         "legendgroup": "sex=Male",
         "marker": {
          "color": "#EF553B",
          "symbol": "circle"
         },
         "mode": "lines",
         "name": "sex=Male",
         "showlegend": false,
         "type": "scatter",
         "xaxis": "x2",
         "yaxis": "y2"
        }
       ],
       "layout": {
        "annotations": [
         {
          "font": {},
          "showarrow": false,
          "text": "smoker=No",
          "x": 0.245,
          "xanchor": "center",
          "xref": "paper",
          "y": 1,
          "yanchor": "bottom",
          "yref": "paper"
         },
         {
          "font": {},
          "showarrow": false,
          "text": "smoker=Yes",
          "x": 0.755,
          "xanchor": "center",
          "xref": "paper",
          "y": 1,
          "yanchor": "bottom",
          "yref": "paper"
         }
        ],
        "height": 600,
        "legend": {
         "tracegroupgap": 0
        },
        "margin": {
         "t": 60
        },
        "template": {
         "data": {
          "bar": [
           {
            "error_x": {
             "color": "#2a3f5f"
            },
            "error_y": {
             "color": "#2a3f5f"
            },
            "marker": {
             "line": {
              "color": "#E5ECF6",
              "width": 0.5
             }
            },
            "type": "bar"
           }
          ],
          "barpolar": [
           {
            "marker": {
             "line": {
              "color": "#E5ECF6",
              "width": 0.5
             }
            },
            "type": "barpolar"
           }
          ],
          "carpet": [
           {
            "aaxis": {
             "endlinecolor": "#2a3f5f",
             "gridcolor": "white",
             "linecolor": "white",
             "minorgridcolor": "white",
             "startlinecolor": "#2a3f5f"
            },
            "baxis": {
             "endlinecolor": "#2a3f5f",
             "gridcolor": "white",
             "linecolor": "white",
             "minorgridcolor": "white",
             "startlinecolor": "#2a3f5f"
            },
            "type": "carpet"
           }
          ],
          "choropleth": [
           {
            "colorbar": {
             "outlinewidth": 0,
             "ticks": ""
            },
            "type": "choropleth"
           }
          ],
          "contour": [
           {
            "colorbar": {
             "outlinewidth": 0,
             "ticks": ""
            },
            "colorscale": [
             [
              0,
              "#0d0887"
             ],
             [
              0.1111111111111111,
              "#46039f"
             ],
             [
              0.2222222222222222,
              "#7201a8"
             ],
             [
              0.3333333333333333,
              "#9c179e"
             ],
             [
              0.4444444444444444,
              "#bd3786"
             ],
             [
              0.5555555555555556,
              "#d8576b"
             ],
             [
              0.6666666666666666,
              "#ed7953"
             ],
             [
              0.7777777777777778,
              "#fb9f3a"
             ],
             [
              0.8888888888888888,
              "#fdca26"
             ],
             [
              1,
              "#f0f921"
             ]
            ],
            "type": "contour"
           }
          ],
          "contourcarpet": [
           {
            "colorbar": {
             "outlinewidth": 0,
             "ticks": ""
            },
            "type": "contourcarpet"
           }
          ],
          "heatmap": [
           {
            "colorbar": {
             "outlinewidth": 0,
             "ticks": ""
            },
            "colorscale": [
             [
              0,
              "#0d0887"
             ],
             [
              0.1111111111111111,
              "#46039f"
             ],
             [
              0.2222222222222222,
              "#7201a8"
             ],
             [
              0.3333333333333333,
              "#9c179e"
             ],
             [
              0.4444444444444444,
              "#bd3786"
             ],
             [
              0.5555555555555556,
              "#d8576b"
             ],
             [
              0.6666666666666666,
              "#ed7953"
             ],
             [
              0.7777777777777778,
              "#fb9f3a"
             ],
             [
              0.8888888888888888,
              "#fdca26"
             ],
             [
              1,
              "#f0f921"
             ]
            ],
            "type": "heatmap"
           }
          ],
          "heatmapgl": [
           {
            "colorbar": {
             "outlinewidth": 0,
             "ticks": ""
            },
            "colorscale": [
             [
              0,
              "#0d0887"
             ],
             [
              0.1111111111111111,
              "#46039f"
             ],
             [
              0.2222222222222222,
              "#7201a8"
             ],
             [
              0.3333333333333333,
              "#9c179e"
             ],
             [
              0.4444444444444444,
              "#bd3786"
             ],
             [
              0.5555555555555556,
              "#d8576b"
             ],
             [
              0.6666666666666666,
              "#ed7953"
             ],
             [
              0.7777777777777778,
              "#fb9f3a"
             ],
             [
              0.8888888888888888,
              "#fdca26"
             ],
             [
              1,
              "#f0f921"
             ]
            ],
            "type": "heatmapgl"
           }
          ],
          "histogram": [
           {
            "marker": {
             "colorbar": {
              "outlinewidth": 0,
              "ticks": ""
             }
            },
            "type": "histogram"
           }
          ],
          "histogram2d": [
           {
            "colorbar": {
             "outlinewidth": 0,
             "ticks": ""
            },
            "colorscale": [
             [
              0,
              "#0d0887"
             ],
             [
              0.1111111111111111,
              "#46039f"
             ],
             [
              0.2222222222222222,
              "#7201a8"
             ],
             [
              0.3333333333333333,
              "#9c179e"
             ],
             [
              0.4444444444444444,
              "#bd3786"
             ],
             [
              0.5555555555555556,
              "#d8576b"
             ],
             [
              0.6666666666666666,
              "#ed7953"
             ],
             [
              0.7777777777777778,
              "#fb9f3a"
             ],
             [
              0.8888888888888888,
              "#fdca26"
             ],
             [
              1,
              "#f0f921"
             ]
            ],
            "type": "histogram2d"
           }
          ],
          "histogram2dcontour": [
           {
            "colorbar": {
             "outlinewidth": 0,
             "ticks": ""
            },
            "colorscale": [
             [
              0,
              "#0d0887"
             ],
             [
              0.1111111111111111,
              "#46039f"
             ],
             [
              0.2222222222222222,
              "#7201a8"
             ],
             [
              0.3333333333333333,
              "#9c179e"
             ],
             [
              0.4444444444444444,
              "#bd3786"
             ],
             [
              0.5555555555555556,
              "#d8576b"
             ],
             [
              0.6666666666666666,
              "#ed7953"
             ],
             [
              0.7777777777777778,
              "#fb9f3a"
             ],
             [
              0.8888888888888888,
              "#fdca26"
             ],
             [
              1,
              "#f0f921"
             ]
            ],
            "type": "histogram2dcontour"
           }
          ],
          "mesh3d": [
           {
            "colorbar": {
             "outlinewidth": 0,
             "ticks": ""
            },
            "type": "mesh3d"
           }
          ],
          "parcoords": [
           {
            "line": {
             "colorbar": {
              "outlinewidth": 0,
              "ticks": ""
             }
            },
            "type": "parcoords"
           }
          ],
          "pie": [
           {
            "automargin": true,
            "type": "pie"
           }
          ],
          "scatter": [
           {
            "marker": {
             "colorbar": {
              "outlinewidth": 0,
              "ticks": ""
             }
            },
            "type": "scatter"
           }
          ],
          "scatter3d": [
           {
            "line": {
             "colorbar": {
              "outlinewidth": 0,
              "ticks": ""
             }
            },
            "marker": {
             "colorbar": {
              "outlinewidth": 0,
              "ticks": ""
             }
            },
            "type": "scatter3d"
           }
          ],
          "scattercarpet": [
           {
            "marker": {
             "colorbar": {
              "outlinewidth": 0,
              "ticks": ""
             }
            },
            "type": "scattercarpet"
           }
          ],
          "scattergeo": [
           {
            "marker": {
             "colorbar": {
              "outlinewidth": 0,
              "ticks": ""
             }
            },
            "type": "scattergeo"
           }
          ],
          "scattergl": [
           {
            "marker": {
             "colorbar": {
              "outlinewidth": 0,
              "ticks": ""
             }
            },
            "type": "scattergl"
           }
          ],
          "scattermapbox": [
           {
            "marker": {
             "colorbar": {
              "outlinewidth": 0,
              "ticks": ""
             }
            },
            "type": "scattermapbox"
           }
          ],
          "scatterpolar": [
           {
            "marker": {
             "colorbar": {
              "outlinewidth": 0,
              "ticks": ""
             }
            },
            "type": "scatterpolar"
           }
          ],
          "scatterpolargl": [
           {
            "marker": {
             "colorbar": {
              "outlinewidth": 0,
              "ticks": ""
             }
            },
            "type": "scatterpolargl"
           }
          ],
          "scatterternary": [
           {
            "marker": {
             "colorbar": {
              "outlinewidth": 0,
              "ticks": ""
             }
            },
            "type": "scatterternary"
           }
          ],
          "surface": [
           {
            "colorbar": {
             "outlinewidth": 0,
             "ticks": ""
            },
            "colorscale": [
             [
              0,
              "#0d0887"
             ],
             [
              0.1111111111111111,
              "#46039f"
             ],
             [
              0.2222222222222222,
              "#7201a8"
             ],
             [
              0.3333333333333333,
              "#9c179e"
             ],
             [
              0.4444444444444444,
              "#bd3786"
             ],
             [
              0.5555555555555556,
              "#d8576b"
             ],
             [
              0.6666666666666666,
              "#ed7953"
             ],
             [
              0.7777777777777778,
              "#fb9f3a"
             ],
             [
              0.8888888888888888,
              "#fdca26"
             ],
             [
              1,
              "#f0f921"
             ]
            ],
            "type": "surface"
           }
          ],
          "table": [
           {
            "cells": {
             "fill": {
              "color": "#EBF0F8"
             },
             "line": {
              "color": "white"
             }
            },
            "header": {
             "fill": {
              "color": "#C8D4E3"
             },
             "line": {
              "color": "white"
             }
            },
            "type": "table"
           }
          ]
         },
         "layout": {
          "annotationdefaults": {
           "arrowcolor": "#2a3f5f",
           "arrowhead": 0,
           "arrowwidth": 1
          },
          "coloraxis": {
           "colorbar": {
            "outlinewidth": 0,
            "ticks": ""
           }
          },
          "colorscale": {
           "diverging": [
            [
             0,
             "#8e0152"
            ],
            [
             0.1,
             "#c51b7d"
            ],
            [
             0.2,
             "#de77ae"
            ],
            [
             0.3,
             "#f1b6da"
            ],
            [
             0.4,
             "#fde0ef"
            ],
            [
             0.5,
             "#f7f7f7"
            ],
            [
             0.6,
             "#e6f5d0"
            ],
            [
             0.7,
             "#b8e186"
            ],
            [
             0.8,
             "#7fbc41"
            ],
            [
             0.9,
             "#4d9221"
            ],
            [
             1,
             "#276419"
            ]
           ],
           "sequential": [
            [
             0,
             "#0d0887"
            ],
            [
             0.1111111111111111,
             "#46039f"
            ],
            [
             0.2222222222222222,
             "#7201a8"
            ],
            [
             0.3333333333333333,
             "#9c179e"
            ],
            [
             0.4444444444444444,
             "#bd3786"
            ],
            [
             0.5555555555555556,
             "#d8576b"
            ],
            [
             0.6666666666666666,
             "#ed7953"
            ],
            [
             0.7777777777777778,
             "#fb9f3a"
            ],
            [
             0.8888888888888888,
             "#fdca26"
            ],
            [
             1,
             "#f0f921"
            ]
           ],
           "sequentialminus": [
            [
             0,
             "#0d0887"
            ],
            [
             0.1111111111111111,
             "#46039f"
            ],
            [
             0.2222222222222222,
             "#7201a8"
            ],
            [
             0.3333333333333333,
             "#9c179e"
            ],
            [
             0.4444444444444444,
             "#bd3786"
            ],
            [
             0.5555555555555556,
             "#d8576b"
            ],
            [
             0.6666666666666666,
             "#ed7953"
            ],
            [
             0.7777777777777778,
             "#fb9f3a"
            ],
            [
             0.8888888888888888,
             "#fdca26"
            ],
            [
             1,
             "#f0f921"
            ]
           ]
          },
          "colorway": [
           "#636efa",
           "#EF553B",
           "#00cc96",
           "#ab63fa",
           "#FFA15A",
           "#19d3f3",
           "#FF6692",
           "#B6E880",
           "#FF97FF",
           "#FECB52"
          ],
          "font": {
           "color": "#2a3f5f"
          },
          "geo": {
           "bgcolor": "white",
           "lakecolor": "white",
           "landcolor": "#E5ECF6",
           "showlakes": true,
           "showland": true,
           "subunitcolor": "white"
          },
          "hoverlabel": {
           "align": "left"
          },
          "hovermode": "closest",
          "mapbox": {
           "style": "light"
          },
          "paper_bgcolor": "white",
          "plot_bgcolor": "#E5ECF6",
          "polar": {
           "angularaxis": {
            "gridcolor": "white",
            "linecolor": "white",
            "ticks": ""
           },
           "bgcolor": "#E5ECF6",
           "radialaxis": {
            "gridcolor": "white",
            "linecolor": "white",
            "ticks": ""
           }
          },
          "scene": {
           "xaxis": {
            "backgroundcolor": "#E5ECF6",
            "gridcolor": "white",
            "gridwidth": 2,
            "linecolor": "white",
            "showbackground": true,
            "ticks": "",
            "zerolinecolor": "white"
           },
           "yaxis": {
            "backgroundcolor": "#E5ECF6",
            "gridcolor": "white",
            "gridwidth": 2,
            "linecolor": "white",
            "showbackground": true,
            "ticks": "",
            "zerolinecolor": "white"
           },
           "zaxis": {
            "backgroundcolor": "#E5ECF6",
            "gridcolor": "white",
            "gridwidth": 2,
            "linecolor": "white",
            "showbackground": true,
            "ticks": "",
            "zerolinecolor": "white"
           }
          },
          "shapedefaults": {
           "line": {
            "color": "#2a3f5f"
           }
          },
          "ternary": {
           "aaxis": {
            "gridcolor": "white",
            "linecolor": "white",
            "ticks": ""
           },
           "baxis": {
            "gridcolor": "white",
            "linecolor": "white",
            "ticks": ""
           },
           "bgcolor": "#E5ECF6",
           "caxis": {
            "gridcolor": "white",
            "linecolor": "white",
            "ticks": ""
           }
          },
          "title": {
           "x": 0.05
          },
          "xaxis": {
           "automargin": true,
           "gridcolor": "white",
           "linecolor": "white",
           "ticks": "",
           "title": {
            "standoff": 15
           },
           "zerolinecolor": "white",
           "zerolinewidth": 2
          },
          "yaxis": {
           "automargin": true,
           "gridcolor": "white",
           "linecolor": "white",
           "ticks": "",
           "title": {
            "standoff": 15
           },
           "zerolinecolor": "white",
           "zerolinewidth": 2
          }
         }
        },
        "xaxis": {
         "anchor": "y",
         "domain": [
          0,
          0.49
         ]
        },
        "xaxis2": {
         "anchor": "y2",
         "domain": [
          0.51,
          1
         ],
         "matches": "x"
        },
        "yaxis": {
         "anchor": "x",
         "domain": [
          0,
          1
         ]
        },
        "yaxis2": {
         "anchor": "x2",
         "domain": [
          0,
          1
         ],
         "matches": "y",
         "showticklabels": false
        }
       }
      },
      "text/html": [
       "<div>\n",
       "        \n",
       "        \n",
       "            <div id=\"208528e7-ea7a-4c61-9120-3654397a9d35\" class=\"plotly-graph-div\" style=\"height:600px; width:100%;\"></div>\n",
       "            <script type=\"text/javascript\">\n",
       "                require([\"plotly\"], function(Plotly) {\n",
       "                    window.PLOTLYENV=window.PLOTLYENV || {};\n",
       "                    \n",
       "                if (document.getElementById(\"208528e7-ea7a-4c61-9120-3654397a9d35\")) {\n",
       "                    Plotly.newPlot(\n",
       "                        '208528e7-ea7a-4c61-9120-3654397a9d35',\n",
       "                        [{\"hoverlabel\": {\"namelength\": 0}, \"hovertemplate\": \"sex=Female<br>smoker=No\", \"legendgroup\": \"sex=Female\", \"marker\": {\"color\": \"#636efa\", \"symbol\": \"circle\"}, \"mode\": \"markers\", \"name\": \"sex=Female\", \"showlegend\": true, \"type\": \"scatter\", \"xaxis\": \"x\", \"yaxis\": \"y\"}, {\"hoverlabel\": {\"namelength\": 0}, \"hovertemplate\": \"sex=Female<br>smoker=No\", \"legendgroup\": \"sex=Female\", \"marker\": {\"color\": \"#636efa\", \"symbol\": \"circle\"}, \"mode\": \"lines\", \"name\": \"sex=Female\", \"showlegend\": false, \"type\": \"scatter\", \"xaxis\": \"x\", \"yaxis\": \"y\"}, {\"hoverlabel\": {\"namelength\": 0}, \"hovertemplate\": \"sex=Female<br>smoker=Yes\", \"legendgroup\": \"sex=Female\", \"marker\": {\"color\": \"#636efa\", \"symbol\": \"circle\"}, \"mode\": \"markers\", \"name\": \"sex=Female\", \"showlegend\": false, \"type\": \"scatter\", \"xaxis\": \"x2\", \"yaxis\": \"y2\"}, {\"hoverlabel\": {\"namelength\": 0}, \"hovertemplate\": \"sex=Female<br>smoker=Yes\", \"legendgroup\": \"sex=Female\", \"marker\": {\"color\": \"#636efa\", \"symbol\": \"circle\"}, \"mode\": \"lines\", \"name\": \"sex=Female\", \"showlegend\": false, \"type\": \"scatter\", \"xaxis\": \"x2\", \"yaxis\": \"y2\"}, {\"hoverlabel\": {\"namelength\": 0}, \"hovertemplate\": \"sex=Male<br>smoker=No\", \"legendgroup\": \"sex=Male\", \"marker\": {\"color\": \"#EF553B\", \"symbol\": \"circle\"}, \"mode\": \"markers\", \"name\": \"sex=Male\", \"showlegend\": true, \"type\": \"scatter\", \"xaxis\": \"x\", \"yaxis\": \"y\"}, {\"hoverlabel\": {\"namelength\": 0}, \"hovertemplate\": \"sex=Male<br>smoker=No\", \"legendgroup\": \"sex=Male\", \"marker\": {\"color\": \"#EF553B\", \"symbol\": \"circle\"}, \"mode\": \"lines\", \"name\": \"sex=Male\", \"showlegend\": false, \"type\": \"scatter\", \"xaxis\": \"x\", \"yaxis\": \"y\"}, {\"hoverlabel\": {\"namelength\": 0}, \"hovertemplate\": \"sex=Male<br>smoker=Yes\", \"legendgroup\": \"sex=Male\", \"marker\": {\"color\": \"#EF553B\", \"symbol\": \"circle\"}, \"mode\": \"markers\", \"name\": \"sex=Male\", \"showlegend\": false, \"type\": \"scatter\", \"xaxis\": \"x2\", \"yaxis\": \"y2\"}, {\"hoverlabel\": {\"namelength\": 0}, \"hovertemplate\": \"sex=Male<br>smoker=Yes\", \"legendgroup\": \"sex=Male\", \"marker\": {\"color\": \"#EF553B\", \"symbol\": \"circle\"}, \"mode\": \"lines\", \"name\": \"sex=Male\", \"showlegend\": false, \"type\": \"scatter\", \"xaxis\": \"x2\", \"yaxis\": \"y2\"}],\n",
       "                        {\"annotations\": [{\"font\": {}, \"showarrow\": false, \"text\": \"smoker=No\", \"x\": 0.245, \"xanchor\": \"center\", \"xref\": \"paper\", \"y\": 1.0, \"yanchor\": \"bottom\", \"yref\": \"paper\"}, {\"font\": {}, \"showarrow\": false, \"text\": \"smoker=Yes\", \"x\": 0.755, \"xanchor\": \"center\", \"xref\": \"paper\", \"y\": 1.0, \"yanchor\": \"bottom\", \"yref\": \"paper\"}], \"height\": 600, \"legend\": {\"tracegroupgap\": 0}, \"margin\": {\"t\": 60}, \"template\": {\"data\": {\"bar\": [{\"error_x\": {\"color\": \"#2a3f5f\"}, \"error_y\": {\"color\": \"#2a3f5f\"}, \"marker\": {\"line\": {\"color\": \"#E5ECF6\", \"width\": 0.5}}, \"type\": \"bar\"}], \"barpolar\": [{\"marker\": {\"line\": {\"color\": \"#E5ECF6\", \"width\": 0.5}}, \"type\": \"barpolar\"}], \"carpet\": [{\"aaxis\": {\"endlinecolor\": \"#2a3f5f\", \"gridcolor\": \"white\", \"linecolor\": \"white\", \"minorgridcolor\": \"white\", \"startlinecolor\": \"#2a3f5f\"}, \"baxis\": {\"endlinecolor\": \"#2a3f5f\", \"gridcolor\": \"white\", \"linecolor\": \"white\", \"minorgridcolor\": \"white\", \"startlinecolor\": \"#2a3f5f\"}, \"type\": \"carpet\"}], \"choropleth\": [{\"colorbar\": {\"outlinewidth\": 0, \"ticks\": \"\"}, \"type\": \"choropleth\"}], \"contour\": [{\"colorbar\": {\"outlinewidth\": 0, \"ticks\": \"\"}, \"colorscale\": [[0.0, \"#0d0887\"], [0.1111111111111111, \"#46039f\"], [0.2222222222222222, \"#7201a8\"], [0.3333333333333333, \"#9c179e\"], [0.4444444444444444, \"#bd3786\"], [0.5555555555555556, \"#d8576b\"], [0.6666666666666666, \"#ed7953\"], [0.7777777777777778, \"#fb9f3a\"], [0.8888888888888888, \"#fdca26\"], [1.0, \"#f0f921\"]], \"type\": \"contour\"}], \"contourcarpet\": [{\"colorbar\": {\"outlinewidth\": 0, \"ticks\": \"\"}, \"type\": \"contourcarpet\"}], \"heatmap\": [{\"colorbar\": {\"outlinewidth\": 0, \"ticks\": \"\"}, \"colorscale\": [[0.0, \"#0d0887\"], [0.1111111111111111, \"#46039f\"], [0.2222222222222222, \"#7201a8\"], [0.3333333333333333, \"#9c179e\"], [0.4444444444444444, \"#bd3786\"], [0.5555555555555556, \"#d8576b\"], [0.6666666666666666, \"#ed7953\"], [0.7777777777777778, \"#fb9f3a\"], [0.8888888888888888, \"#fdca26\"], [1.0, \"#f0f921\"]], \"type\": \"heatmap\"}], \"heatmapgl\": [{\"colorbar\": {\"outlinewidth\": 0, \"ticks\": \"\"}, \"colorscale\": [[0.0, \"#0d0887\"], [0.1111111111111111, \"#46039f\"], [0.2222222222222222, \"#7201a8\"], [0.3333333333333333, \"#9c179e\"], [0.4444444444444444, \"#bd3786\"], [0.5555555555555556, \"#d8576b\"], [0.6666666666666666, \"#ed7953\"], [0.7777777777777778, \"#fb9f3a\"], [0.8888888888888888, \"#fdca26\"], [1.0, \"#f0f921\"]], \"type\": \"heatmapgl\"}], \"histogram\": [{\"marker\": {\"colorbar\": {\"outlinewidth\": 0, \"ticks\": \"\"}}, \"type\": \"histogram\"}], \"histogram2d\": [{\"colorbar\": {\"outlinewidth\": 0, \"ticks\": \"\"}, \"colorscale\": [[0.0, \"#0d0887\"], [0.1111111111111111, \"#46039f\"], [0.2222222222222222, \"#7201a8\"], [0.3333333333333333, \"#9c179e\"], [0.4444444444444444, \"#bd3786\"], [0.5555555555555556, \"#d8576b\"], [0.6666666666666666, \"#ed7953\"], [0.7777777777777778, \"#fb9f3a\"], [0.8888888888888888, \"#fdca26\"], [1.0, \"#f0f921\"]], \"type\": \"histogram2d\"}], \"histogram2dcontour\": [{\"colorbar\": {\"outlinewidth\": 0, \"ticks\": \"\"}, \"colorscale\": [[0.0, \"#0d0887\"], [0.1111111111111111, \"#46039f\"], [0.2222222222222222, \"#7201a8\"], [0.3333333333333333, \"#9c179e\"], [0.4444444444444444, \"#bd3786\"], [0.5555555555555556, \"#d8576b\"], [0.6666666666666666, \"#ed7953\"], [0.7777777777777778, \"#fb9f3a\"], [0.8888888888888888, \"#fdca26\"], [1.0, \"#f0f921\"]], \"type\": \"histogram2dcontour\"}], \"mesh3d\": [{\"colorbar\": {\"outlinewidth\": 0, \"ticks\": \"\"}, \"type\": \"mesh3d\"}], \"parcoords\": [{\"line\": {\"colorbar\": {\"outlinewidth\": 0, \"ticks\": \"\"}}, \"type\": \"parcoords\"}], \"pie\": [{\"automargin\": true, \"type\": \"pie\"}], \"scatter\": [{\"marker\": {\"colorbar\": {\"outlinewidth\": 0, \"ticks\": \"\"}}, \"type\": \"scatter\"}], \"scatter3d\": [{\"line\": {\"colorbar\": {\"outlinewidth\": 0, \"ticks\": \"\"}}, \"marker\": {\"colorbar\": {\"outlinewidth\": 0, \"ticks\": \"\"}}, \"type\": \"scatter3d\"}], \"scattercarpet\": [{\"marker\": {\"colorbar\": {\"outlinewidth\": 0, \"ticks\": \"\"}}, \"type\": \"scattercarpet\"}], \"scattergeo\": [{\"marker\": {\"colorbar\": {\"outlinewidth\": 0, \"ticks\": \"\"}}, \"type\": \"scattergeo\"}], \"scattergl\": [{\"marker\": {\"colorbar\": {\"outlinewidth\": 0, \"ticks\": \"\"}}, \"type\": \"scattergl\"}], \"scattermapbox\": [{\"marker\": {\"colorbar\": {\"outlinewidth\": 0, \"ticks\": \"\"}}, \"type\": \"scattermapbox\"}], \"scatterpolar\": [{\"marker\": {\"colorbar\": {\"outlinewidth\": 0, \"ticks\": \"\"}}, \"type\": \"scatterpolar\"}], \"scatterpolargl\": [{\"marker\": {\"colorbar\": {\"outlinewidth\": 0, \"ticks\": \"\"}}, \"type\": \"scatterpolargl\"}], \"scatterternary\": [{\"marker\": {\"colorbar\": {\"outlinewidth\": 0, \"ticks\": \"\"}}, \"type\": \"scatterternary\"}], \"surface\": [{\"colorbar\": {\"outlinewidth\": 0, \"ticks\": \"\"}, \"colorscale\": [[0.0, \"#0d0887\"], [0.1111111111111111, \"#46039f\"], [0.2222222222222222, \"#7201a8\"], [0.3333333333333333, \"#9c179e\"], [0.4444444444444444, \"#bd3786\"], [0.5555555555555556, \"#d8576b\"], [0.6666666666666666, \"#ed7953\"], [0.7777777777777778, \"#fb9f3a\"], [0.8888888888888888, \"#fdca26\"], [1.0, \"#f0f921\"]], \"type\": \"surface\"}], \"table\": [{\"cells\": {\"fill\": {\"color\": \"#EBF0F8\"}, \"line\": {\"color\": \"white\"}}, \"header\": {\"fill\": {\"color\": \"#C8D4E3\"}, \"line\": {\"color\": \"white\"}}, \"type\": \"table\"}]}, \"layout\": {\"annotationdefaults\": {\"arrowcolor\": \"#2a3f5f\", \"arrowhead\": 0, \"arrowwidth\": 1}, \"coloraxis\": {\"colorbar\": {\"outlinewidth\": 0, \"ticks\": \"\"}}, \"colorscale\": {\"diverging\": [[0, \"#8e0152\"], [0.1, \"#c51b7d\"], [0.2, \"#de77ae\"], [0.3, \"#f1b6da\"], [0.4, \"#fde0ef\"], [0.5, \"#f7f7f7\"], [0.6, \"#e6f5d0\"], [0.7, \"#b8e186\"], [0.8, \"#7fbc41\"], [0.9, \"#4d9221\"], [1, \"#276419\"]], \"sequential\": [[0.0, \"#0d0887\"], [0.1111111111111111, \"#46039f\"], [0.2222222222222222, \"#7201a8\"], [0.3333333333333333, \"#9c179e\"], [0.4444444444444444, \"#bd3786\"], [0.5555555555555556, \"#d8576b\"], [0.6666666666666666, \"#ed7953\"], [0.7777777777777778, \"#fb9f3a\"], [0.8888888888888888, \"#fdca26\"], [1.0, \"#f0f921\"]], \"sequentialminus\": [[0.0, \"#0d0887\"], [0.1111111111111111, \"#46039f\"], [0.2222222222222222, \"#7201a8\"], [0.3333333333333333, \"#9c179e\"], [0.4444444444444444, \"#bd3786\"], [0.5555555555555556, \"#d8576b\"], [0.6666666666666666, \"#ed7953\"], [0.7777777777777778, \"#fb9f3a\"], [0.8888888888888888, \"#fdca26\"], [1.0, \"#f0f921\"]]}, \"colorway\": [\"#636efa\", \"#EF553B\", \"#00cc96\", \"#ab63fa\", \"#FFA15A\", \"#19d3f3\", \"#FF6692\", \"#B6E880\", \"#FF97FF\", \"#FECB52\"], \"font\": {\"color\": \"#2a3f5f\"}, \"geo\": {\"bgcolor\": \"white\", \"lakecolor\": \"white\", \"landcolor\": \"#E5ECF6\", \"showlakes\": true, \"showland\": true, \"subunitcolor\": \"white\"}, \"hoverlabel\": {\"align\": \"left\"}, \"hovermode\": \"closest\", \"mapbox\": {\"style\": \"light\"}, \"paper_bgcolor\": \"white\", \"plot_bgcolor\": \"#E5ECF6\", \"polar\": {\"angularaxis\": {\"gridcolor\": \"white\", \"linecolor\": \"white\", \"ticks\": \"\"}, \"bgcolor\": \"#E5ECF6\", \"radialaxis\": {\"gridcolor\": \"white\", \"linecolor\": \"white\", \"ticks\": \"\"}}, \"scene\": {\"xaxis\": {\"backgroundcolor\": \"#E5ECF6\", \"gridcolor\": \"white\", \"gridwidth\": 2, \"linecolor\": \"white\", \"showbackground\": true, \"ticks\": \"\", \"zerolinecolor\": \"white\"}, \"yaxis\": {\"backgroundcolor\": \"#E5ECF6\", \"gridcolor\": \"white\", \"gridwidth\": 2, \"linecolor\": \"white\", \"showbackground\": true, \"ticks\": \"\", \"zerolinecolor\": \"white\"}, \"zaxis\": {\"backgroundcolor\": \"#E5ECF6\", \"gridcolor\": \"white\", \"gridwidth\": 2, \"linecolor\": \"white\", \"showbackground\": true, \"ticks\": \"\", \"zerolinecolor\": \"white\"}}, \"shapedefaults\": {\"line\": {\"color\": \"#2a3f5f\"}}, \"ternary\": {\"aaxis\": {\"gridcolor\": \"white\", \"linecolor\": \"white\", \"ticks\": \"\"}, \"baxis\": {\"gridcolor\": \"white\", \"linecolor\": \"white\", \"ticks\": \"\"}, \"bgcolor\": \"#E5ECF6\", \"caxis\": {\"gridcolor\": \"white\", \"linecolor\": \"white\", \"ticks\": \"\"}}, \"title\": {\"x\": 0.05}, \"xaxis\": {\"automargin\": true, \"gridcolor\": \"white\", \"linecolor\": \"white\", \"ticks\": \"\", \"title\": {\"standoff\": 15}, \"zerolinecolor\": \"white\", \"zerolinewidth\": 2}, \"yaxis\": {\"automargin\": true, \"gridcolor\": \"white\", \"linecolor\": \"white\", \"ticks\": \"\", \"title\": {\"standoff\": 15}, \"zerolinecolor\": \"white\", \"zerolinewidth\": 2}}}, \"xaxis\": {\"anchor\": \"y\", \"domain\": [0.0, 0.49]}, \"xaxis2\": {\"anchor\": \"y2\", \"domain\": [0.51, 1.0], \"matches\": \"x\"}, \"yaxis\": {\"anchor\": \"x\", \"domain\": [0.0, 1.0]}, \"yaxis2\": {\"anchor\": \"x2\", \"domain\": [0.0, 1.0], \"matches\": \"y\", \"showticklabels\": false}},\n",
       "                        {\"responsive\": true}\n",
       "                    ).then(function(){\n",
       "                            \n",
       "var gd = document.getElementById('208528e7-ea7a-4c61-9120-3654397a9d35');\n",
       "var x = new MutationObserver(function (mutations, observer) {{\n",
       "        var display = window.getComputedStyle(gd).display;\n",
       "        if (!display || display === 'none') {{\n",
       "            console.log([gd, 'removed!']);\n",
       "            Plotly.purge(gd);\n",
       "            observer.disconnect();\n",
       "        }}\n",
       "}});\n",
       "\n",
       "// Listen for the removal of the full notebook cells\n",
       "var notebookContainer = gd.closest('#notebook-container');\n",
       "if (notebookContainer) {{\n",
       "    x.observe(notebookContainer, {childList: true});\n",
       "}}\n",
       "\n",
       "// Listen for the clearing of the current output cell\n",
       "var outputEl = gd.closest('.output');\n",
       "if (outputEl) {{\n",
       "    x.observe(outputEl, {childList: true});\n",
       "}}\n",
       "\n",
       "                        })\n",
       "                };\n",
       "                });\n",
       "            </script>\n",
       "        </div>"
      ]
     },
     "metadata": {},
     "output_type": "display_data"
    },
    {
     "name": "stdout",
     "output_type": "stream",
     "text": [
      "Empty DataFrame\n",
      "Columns: []\n",
      "Index: []\n"
     ]
    }
   ],
   "source": [
    "data = df_production.loc[\"World\"]\n",
    "tips = px.data.tips()\n",
    "fig = px.scatter(tips, x=\"temps\", y=\"consommation\", facet_col=\"smoker\", color=\"sex\", trendline=\"ols\")\n",
    "fig.show()\n",
    "\n",
    "results = px.get_trendline_results(fig)\n",
    "print(results)"
   ]
  },
  {
   "cell_type": "code",
   "execution_count": 231,
   "metadata": {},
   "outputs": [],
   "source": [
    "newdf = df_production.drop(todrop)"
   ]
  },
  {
   "cell_type": "code",
   "execution_count": 232,
   "metadata": {},
   "outputs": [],
   "source": [
    "newdf2 = df_production.loc[\"World\"]"
   ]
  },
  {
   "cell_type": "code",
   "execution_count": 224,
   "metadata": {},
   "outputs": [],
   "source": [
    "newdf2 = newdf2.reset_index\n"
   ]
  },
  {
   "cell_type": "code",
   "execution_count": 243,
   "metadata": {},
   "outputs": [],
   "source": [
    "X = pd.DataFrame(pd.to_numeric(newdf2.index))"
   ]
  },
  {
   "cell_type": "code",
   "execution_count": 234,
   "metadata": {},
   "outputs": [
    {
     "ename": "TypeError",
     "evalue": "can only perform ops with scalar values",
     "output_type": "error",
     "traceback": [
      "\u001b[0;31m---------------------------------------------------------------------------\u001b[0m",
      "\u001b[0;31mTypeError\u001b[0m                                 Traceback (most recent call last)",
      "\u001b[0;32m<ipython-input-234-966add056ade>\u001b[0m in \u001b[0;36m<module>\u001b[0;34m\u001b[0m\n\u001b[0;32m----> 1\u001b[0;31m \u001b[0mX\u001b[0m \u001b[0;34m=\u001b[0m \u001b[0;34m(\u001b[0m\u001b[0mpd\u001b[0m\u001b[0;34m.\u001b[0m\u001b[0mto_numeric\u001b[0m\u001b[0;34m(\u001b[0m\u001b[0mnewdf2\u001b[0m\u001b[0;34m.\u001b[0m\u001b[0mindex\u001b[0m\u001b[0;34m)\u001b[0m \u001b[0;34m-\u001b[0m \u001b[0mnewdf2\u001b[0m\u001b[0;34m.\u001b[0m\u001b[0mindex\u001b[0m\u001b[0;34m[\u001b[0m\u001b[0;36m0\u001b[0m\u001b[0;34m]\u001b[0m\u001b[0;34m)\u001b[0m\u001b[0;34m.\u001b[0m\u001b[0myears\u001b[0m\u001b[0;34m.\u001b[0m\u001b[0mreshape\u001b[0m\u001b[0;34m(\u001b[0m\u001b[0;34m-\u001b[0m\u001b[0;36m1\u001b[0m\u001b[0;34m,\u001b[0m \u001b[0;36m1\u001b[0m\u001b[0;34m)\u001b[0m\u001b[0;34m\u001b[0m\u001b[0;34m\u001b[0m\u001b[0m\n\u001b[0m",
      "\u001b[0;32m~/anaconda3/lib/python3.7/site-packages/pandas/core/indexes/base.py\u001b[0m in \u001b[0;36mindex_arithmetic_method\u001b[0;34m(self, other)\u001b[0m\n\u001b[1;32m    148\u001b[0m             \u001b[0;32mreturn\u001b[0m \u001b[0mself\u001b[0m\u001b[0;34m.\u001b[0m\u001b[0m_evaluate_with_timedelta_like\u001b[0m\u001b[0;34m(\u001b[0m\u001b[0mother\u001b[0m\u001b[0;34m,\u001b[0m \u001b[0mop\u001b[0m\u001b[0;34m)\u001b[0m\u001b[0;34m\u001b[0m\u001b[0;34m\u001b[0m\u001b[0m\n\u001b[1;32m    149\u001b[0m \u001b[0;34m\u001b[0m\u001b[0m\n\u001b[0;32m--> 150\u001b[0;31m         \u001b[0mother\u001b[0m \u001b[0;34m=\u001b[0m \u001b[0mself\u001b[0m\u001b[0;34m.\u001b[0m\u001b[0m_validate_for_numeric_binop\u001b[0m\u001b[0;34m(\u001b[0m\u001b[0mother\u001b[0m\u001b[0;34m,\u001b[0m \u001b[0mop\u001b[0m\u001b[0;34m)\u001b[0m\u001b[0;34m\u001b[0m\u001b[0;34m\u001b[0m\u001b[0m\n\u001b[0m\u001b[1;32m    151\u001b[0m \u001b[0;34m\u001b[0m\u001b[0m\n\u001b[1;32m    152\u001b[0m         \u001b[0;32mfrom\u001b[0m \u001b[0mpandas\u001b[0m \u001b[0;32mimport\u001b[0m \u001b[0mSeries\u001b[0m\u001b[0;34m\u001b[0m\u001b[0;34m\u001b[0m\u001b[0m\n",
      "\u001b[0;32m~/anaconda3/lib/python3.7/site-packages/pandas/core/indexes/base.py\u001b[0m in \u001b[0;36m_validate_for_numeric_binop\u001b[0;34m(self, other, op)\u001b[0m\n\u001b[1;32m   5474\u001b[0m         \u001b[0;32melse\u001b[0m\u001b[0;34m:\u001b[0m\u001b[0;34m\u001b[0m\u001b[0;34m\u001b[0m\u001b[0m\n\u001b[1;32m   5475\u001b[0m             \u001b[0;32mif\u001b[0m \u001b[0;32mnot\u001b[0m \u001b[0;34m(\u001b[0m\u001b[0mis_float\u001b[0m\u001b[0;34m(\u001b[0m\u001b[0mother\u001b[0m\u001b[0;34m)\u001b[0m \u001b[0;32mor\u001b[0m \u001b[0mis_integer\u001b[0m\u001b[0;34m(\u001b[0m\u001b[0mother\u001b[0m\u001b[0;34m)\u001b[0m\u001b[0;34m)\u001b[0m\u001b[0;34m:\u001b[0m\u001b[0;34m\u001b[0m\u001b[0;34m\u001b[0m\u001b[0m\n\u001b[0;32m-> 5476\u001b[0;31m                 \u001b[0;32mraise\u001b[0m \u001b[0mTypeError\u001b[0m\u001b[0;34m(\u001b[0m\u001b[0;34m\"can only perform ops with scalar values\"\u001b[0m\u001b[0;34m)\u001b[0m\u001b[0;34m\u001b[0m\u001b[0;34m\u001b[0m\u001b[0m\n\u001b[0m\u001b[1;32m   5477\u001b[0m \u001b[0;34m\u001b[0m\u001b[0m\n\u001b[1;32m   5478\u001b[0m         \u001b[0;32mreturn\u001b[0m \u001b[0mother\u001b[0m\u001b[0;34m\u001b[0m\u001b[0;34m\u001b[0m\u001b[0m\n",
      "\u001b[0;31mTypeError\u001b[0m: can only perform ops with scalar values"
     ]
    }
   ],
   "source": [
    "X = (pd.to_numeric(newdf2.index) - newdf2.index[0]).years.reshape(-1, 1)\n"
   ]
  },
  {
   "cell_type": "code",
   "execution_count": 245,
   "metadata": {},
   "outputs": [
    {
     "ename": "TypeError",
     "evalue": "Singleton array array(8813.) cannot be considered a valid collection.",
     "output_type": "error",
     "traceback": [
      "\u001b[0;31m---------------------------------------------------------------------------\u001b[0m",
      "\u001b[0;31mTypeError\u001b[0m                                 Traceback (most recent call last)",
      "\u001b[0;32m<ipython-input-245-5bc495851eb7>\u001b[0m in \u001b[0;36m<module>\u001b[0;34m\u001b[0m\n\u001b[1;32m      1\u001b[0m \u001b[0my\u001b[0m \u001b[0;34m=\u001b[0m \u001b[0mnewdf2\u001b[0m\u001b[0;34m[\u001b[0m\u001b[0;36m1\u001b[0m\u001b[0;34m]\u001b[0m\u001b[0;34m\u001b[0m\u001b[0;34m\u001b[0m\u001b[0m\n\u001b[1;32m      2\u001b[0m \u001b[0;34m\u001b[0m\u001b[0m\n\u001b[0;32m----> 3\u001b[0;31m \u001b[0mmodel\u001b[0m \u001b[0;34m=\u001b[0m \u001b[0mLinearRegression\u001b[0m\u001b[0;34m(\u001b[0m\u001b[0;34m)\u001b[0m\u001b[0;34m.\u001b[0m\u001b[0mfit\u001b[0m\u001b[0;34m(\u001b[0m\u001b[0mX\u001b[0m\u001b[0;34m,\u001b[0m \u001b[0my\u001b[0m\u001b[0;34m)\u001b[0m\u001b[0;34m\u001b[0m\u001b[0;34m\u001b[0m\u001b[0m\n\u001b[0m\u001b[1;32m      4\u001b[0m \u001b[0mpred\u001b[0m \u001b[0;34m=\u001b[0m \u001b[0mLinearRegression\u001b[0m\u001b[0;34m(\u001b[0m\u001b[0mcopy_X\u001b[0m\u001b[0;34m=\u001b[0m\u001b[0;32mTrue\u001b[0m\u001b[0;34m,\u001b[0m \u001b[0mfit_intercept\u001b[0m\u001b[0;34m=\u001b[0m\u001b[0;32mTrue\u001b[0m\u001b[0;34m,\u001b[0m \u001b[0mn_jobs\u001b[0m\u001b[0;34m=\u001b[0m\u001b[0;36m1\u001b[0m\u001b[0;34m,\u001b[0m \u001b[0mnormalize\u001b[0m\u001b[0;34m=\u001b[0m\u001b[0;32mFalse\u001b[0m\u001b[0;34m)\u001b[0m\u001b[0;34m\u001b[0m\u001b[0;34m\u001b[0m\u001b[0m\n",
      "\u001b[0;32m~/anaconda3/lib/python3.7/site-packages/sklearn/linear_model/base.py\u001b[0m in \u001b[0;36mfit\u001b[0;34m(self, X, y, sample_weight)\u001b[0m\n\u001b[1;32m    461\u001b[0m         \u001b[0mn_jobs_\u001b[0m \u001b[0;34m=\u001b[0m \u001b[0mself\u001b[0m\u001b[0;34m.\u001b[0m\u001b[0mn_jobs\u001b[0m\u001b[0;34m\u001b[0m\u001b[0;34m\u001b[0m\u001b[0m\n\u001b[1;32m    462\u001b[0m         X, y = check_X_y(X, y, accept_sparse=['csr', 'csc', 'coo'],\n\u001b[0;32m--> 463\u001b[0;31m                          y_numeric=True, multi_output=True)\n\u001b[0m\u001b[1;32m    464\u001b[0m \u001b[0;34m\u001b[0m\u001b[0m\n\u001b[1;32m    465\u001b[0m         \u001b[0;32mif\u001b[0m \u001b[0msample_weight\u001b[0m \u001b[0;32mis\u001b[0m \u001b[0;32mnot\u001b[0m \u001b[0;32mNone\u001b[0m \u001b[0;32mand\u001b[0m \u001b[0mnp\u001b[0m\u001b[0;34m.\u001b[0m\u001b[0matleast_1d\u001b[0m\u001b[0;34m(\u001b[0m\u001b[0msample_weight\u001b[0m\u001b[0;34m)\u001b[0m\u001b[0;34m.\u001b[0m\u001b[0mndim\u001b[0m \u001b[0;34m>\u001b[0m \u001b[0;36m1\u001b[0m\u001b[0;34m:\u001b[0m\u001b[0;34m\u001b[0m\u001b[0;34m\u001b[0m\u001b[0m\n",
      "\u001b[0;32m~/anaconda3/lib/python3.7/site-packages/sklearn/utils/validation.py\u001b[0m in \u001b[0;36mcheck_X_y\u001b[0;34m(X, y, accept_sparse, accept_large_sparse, dtype, order, copy, force_all_finite, ensure_2d, allow_nd, multi_output, ensure_min_samples, ensure_min_features, y_numeric, warn_on_dtype, estimator)\u001b[0m\n\u001b[1;32m    720\u001b[0m     \u001b[0;32mif\u001b[0m \u001b[0mmulti_output\u001b[0m\u001b[0;34m:\u001b[0m\u001b[0;34m\u001b[0m\u001b[0;34m\u001b[0m\u001b[0m\n\u001b[1;32m    721\u001b[0m         y = check_array(y, 'csr', force_all_finite=True, ensure_2d=False,\n\u001b[0;32m--> 722\u001b[0;31m                         dtype=None)\n\u001b[0m\u001b[1;32m    723\u001b[0m     \u001b[0;32melse\u001b[0m\u001b[0;34m:\u001b[0m\u001b[0;34m\u001b[0m\u001b[0;34m\u001b[0m\u001b[0m\n\u001b[1;32m    724\u001b[0m         \u001b[0my\u001b[0m \u001b[0;34m=\u001b[0m \u001b[0mcolumn_or_1d\u001b[0m\u001b[0;34m(\u001b[0m\u001b[0my\u001b[0m\u001b[0;34m,\u001b[0m \u001b[0mwarn\u001b[0m\u001b[0;34m=\u001b[0m\u001b[0;32mTrue\u001b[0m\u001b[0;34m)\u001b[0m\u001b[0;34m\u001b[0m\u001b[0;34m\u001b[0m\u001b[0m\n",
      "\u001b[0;32m~/anaconda3/lib/python3.7/site-packages/sklearn/utils/validation.py\u001b[0m in \u001b[0;36mcheck_array\u001b[0;34m(array, accept_sparse, accept_large_sparse, dtype, order, copy, force_all_finite, ensure_2d, allow_nd, ensure_min_samples, ensure_min_features, warn_on_dtype, estimator)\u001b[0m\n\u001b[1;32m    543\u001b[0m \u001b[0;34m\u001b[0m\u001b[0m\n\u001b[1;32m    544\u001b[0m     \u001b[0;32mif\u001b[0m \u001b[0mensure_min_samples\u001b[0m \u001b[0;34m>\u001b[0m \u001b[0;36m0\u001b[0m\u001b[0;34m:\u001b[0m\u001b[0;34m\u001b[0m\u001b[0;34m\u001b[0m\u001b[0m\n\u001b[0;32m--> 545\u001b[0;31m         \u001b[0mn_samples\u001b[0m \u001b[0;34m=\u001b[0m \u001b[0m_num_samples\u001b[0m\u001b[0;34m(\u001b[0m\u001b[0marray\u001b[0m\u001b[0;34m)\u001b[0m\u001b[0;34m\u001b[0m\u001b[0;34m\u001b[0m\u001b[0m\n\u001b[0m\u001b[1;32m    546\u001b[0m         \u001b[0;32mif\u001b[0m \u001b[0mn_samples\u001b[0m \u001b[0;34m<\u001b[0m \u001b[0mensure_min_samples\u001b[0m\u001b[0;34m:\u001b[0m\u001b[0;34m\u001b[0m\u001b[0;34m\u001b[0m\u001b[0m\n\u001b[1;32m    547\u001b[0m             raise ValueError(\"Found array with %d sample(s) (shape=%s) while a\"\n",
      "\u001b[0;32m~/anaconda3/lib/python3.7/site-packages/sklearn/utils/validation.py\u001b[0m in \u001b[0;36m_num_samples\u001b[0;34m(x)\u001b[0m\n\u001b[1;32m    144\u001b[0m         \u001b[0;32mif\u001b[0m \u001b[0mlen\u001b[0m\u001b[0;34m(\u001b[0m\u001b[0mx\u001b[0m\u001b[0;34m.\u001b[0m\u001b[0mshape\u001b[0m\u001b[0;34m)\u001b[0m \u001b[0;34m==\u001b[0m \u001b[0;36m0\u001b[0m\u001b[0;34m:\u001b[0m\u001b[0;34m\u001b[0m\u001b[0;34m\u001b[0m\u001b[0m\n\u001b[1;32m    145\u001b[0m             raise TypeError(\"Singleton array %r cannot be considered\"\n\u001b[0;32m--> 146\u001b[0;31m                             \" a valid collection.\" % x)\n\u001b[0m\u001b[1;32m    147\u001b[0m         \u001b[0;31m# Check that shape is returning an integer or default to len\u001b[0m\u001b[0;34m\u001b[0m\u001b[0;34m\u001b[0m\u001b[0;34m\u001b[0m\u001b[0m\n\u001b[1;32m    148\u001b[0m         \u001b[0;31m# Dask dataframes may not return numeric shape[0] value\u001b[0m\u001b[0;34m\u001b[0m\u001b[0;34m\u001b[0m\u001b[0;34m\u001b[0m\u001b[0m\n",
      "\u001b[0;31mTypeError\u001b[0m: Singleton array array(8813.) cannot be considered a valid collection."
     ]
    }
   ],
   "source": [
    "y = newdf2[1]\n",
    "\n",
    "model = LinearRegression().fit(X, y)\n",
    "pred = LinearRegression(copy_X=True, fit_intercept=True, n_jobs=1, normalize=False)"
   ]
  },
  {
   "cell_type": "code",
   "execution_count": null,
   "metadata": {},
   "outputs": [],
   "source": []
  }
 ],
 "metadata": {
  "kernelspec": {
   "display_name": "Python 3",
   "language": "python",
   "name": "python3"
  },
  "language_info": {
   "codemirror_mode": {
    "name": "ipython",
    "version": 3
   },
   "file_extension": ".py",
   "mimetype": "text/x-python",
   "name": "python",
   "nbconvert_exporter": "python",
   "pygments_lexer": "ipython3",
   "version": "3.7.4"
  },
  "toc": {
   "base_numbering": 1,
   "nav_menu": {},
   "number_sections": true,
   "sideBar": true,
   "skip_h1_title": false,
   "title_cell": "Table of Contents",
   "title_sidebar": "Contents",
   "toc_cell": false,
   "toc_position": {},
   "toc_section_display": true,
   "toc_window_display": false
  }
 },
 "nbformat": 4,
 "nbformat_minor": 2
}
